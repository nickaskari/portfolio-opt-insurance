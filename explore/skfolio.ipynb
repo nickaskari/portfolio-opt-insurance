{
 "cells": [
  {
   "cell_type": "code",
   "execution_count": 4,
   "metadata": {},
   "outputs": [],
   "source": [
    "from sklearn import set_config\n",
    "from sklearn.model_selection import (\n",
    "    GridSearchCV,\n",
    "    KFold,\n",
    "    RandomizedSearchCV,\n",
    "    train_test_split,\n",
    ")\n",
    "from sklearn.pipeline import Pipeline\n",
    "from scipy.stats import loguniform\n",
    "\n",
    "from skfolio import RatioMeasure, RiskMeasure\n",
    "from skfolio.datasets import load_factors_dataset, load_sp500_dataset\n",
    "from skfolio.model_selection import (\n",
    "    CombinatorialPurgedCV,\n",
    "    WalkForward,\n",
    "    cross_val_predict,\n",
    ")\n",
    "from skfolio.moments import (\n",
    "    DenoiseCovariance,\n",
    "    DetoneCovariance,\n",
    "    EWMu,\n",
    "    GerberCovariance,\n",
    "    ShrunkMu,\n",
    ")\n",
    "from skfolio.optimization import (\n",
    "    MeanRisk,\n",
    "    NestedClustersOptimization,\n",
    "    ObjectiveFunction,\n",
    "    RiskBudgeting,\n",
    ")\n",
    "from skfolio.pre_selection import SelectKExtremes\n",
    "from skfolio.preprocessing import prices_to_returns\n",
    "from skfolio.prior import BlackLitterman, EmpiricalPrior, FactorModel\n",
    "from skfolio.uncertainty_set import BootstrapMuUncertaintySet"
   ]
  },
  {
   "cell_type": "markdown",
   "metadata": {},
   "source": []
  },
  {
   "cell_type": "code",
   "execution_count": null,
   "metadata": {},
   "outputs": [],
   "source": []
  }
 ],
 "metadata": {
  "kernelspec": {
   "display_name": "Python 3",
   "language": "python",
   "name": "python3"
  },
  "language_info": {
   "codemirror_mode": {
    "name": "ipython",
    "version": 3
   },
   "file_extension": ".py",
   "mimetype": "text/x-python",
   "name": "python",
   "nbconvert_exporter": "python",
   "pygments_lexer": "ipython3",
   "version": "3.12.3"
  }
 },
 "nbformat": 4,
 "nbformat_minor": 2
}
