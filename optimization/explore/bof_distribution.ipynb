{
 "cells": [
  {
   "cell_type": "code",
   "execution_count": 1,
   "metadata": {},
   "outputs": [],
   "source": [
    "import pandas as pd\n",
    "import numpy as np\n",
    "import matplotlib.pyplot as plt\n",
    "from scipy.stats import t\n",
    "from arch import arch_model\n",
    "#import vartests\n",
    "import seaborn as sns"
   ]
  },
  {
   "cell_type": "markdown",
   "metadata": {},
   "source": [
    "## This Notebook Aims to display how we calculate the VaR($\\Delta$ BOF)"
   ]
  },
  {
   "cell_type": "code",
   "execution_count": 2,
   "metadata": {},
   "outputs": [],
   "source": [
    "def fetch_data_df():\n",
    "    df = pd.read_csv('../../data/final_daily_returns_asset_classes.csv', index_col=0, parse_dates=True)\n",
    "    df.index = pd.to_datetime(df.index)\n",
    "    return df"
   ]
  },
  {
   "cell_type": "code",
   "execution_count": 3,
   "metadata": {},
   "outputs": [
    {
     "data": {
      "text/html": [
       "<div>\n",
       "<style scoped>\n",
       "    .dataframe tbody tr th:only-of-type {\n",
       "        vertical-align: middle;\n",
       "    }\n",
       "\n",
       "    .dataframe tbody tr th {\n",
       "        vertical-align: top;\n",
       "    }\n",
       "\n",
       "    .dataframe thead th {\n",
       "        text-align: right;\n",
       "    }\n",
       "</style>\n",
       "<table border=\"1\" class=\"dataframe\">\n",
       "  <thead>\n",
       "    <tr style=\"text-align: right;\">\n",
       "      <th></th>\n",
       "      <th>REEL</th>\n",
       "      <th>PE</th>\n",
       "      <th>MSCIWORLD</th>\n",
       "      <th>IG</th>\n",
       "      <th>GOV</th>\n",
       "      <th>HY</th>\n",
       "      <th>EONIA</th>\n",
       "    </tr>\n",
       "    <tr>\n",
       "      <th>Date</th>\n",
       "      <th></th>\n",
       "      <th></th>\n",
       "      <th></th>\n",
       "      <th></th>\n",
       "      <th></th>\n",
       "      <th></th>\n",
       "      <th></th>\n",
       "    </tr>\n",
       "  </thead>\n",
       "  <tbody>\n",
       "    <tr>\n",
       "      <th>2005-10-11</th>\n",
       "      <td>0.003231</td>\n",
       "      <td>0.006833</td>\n",
       "      <td>0.004578</td>\n",
       "      <td>-0.001342</td>\n",
       "      <td>-0.001916</td>\n",
       "      <td>-0.004075</td>\n",
       "      <td>0.000053</td>\n",
       "    </tr>\n",
       "    <tr>\n",
       "      <th>2005-10-12</th>\n",
       "      <td>-0.003550</td>\n",
       "      <td>-0.009657</td>\n",
       "      <td>-0.007867</td>\n",
       "      <td>-0.002606</td>\n",
       "      <td>-0.001570</td>\n",
       "      <td>-0.004370</td>\n",
       "      <td>0.000057</td>\n",
       "    </tr>\n",
       "    <tr>\n",
       "      <th>2005-10-13</th>\n",
       "      <td>-0.018599</td>\n",
       "      <td>-0.010692</td>\n",
       "      <td>0.000588</td>\n",
       "      <td>-0.002331</td>\n",
       "      <td>-0.003062</td>\n",
       "      <td>-0.003423</td>\n",
       "      <td>0.000057</td>\n",
       "    </tr>\n",
       "    <tr>\n",
       "      <th>2005-10-14</th>\n",
       "      <td>-0.007856</td>\n",
       "      <td>0.001569</td>\n",
       "      <td>-0.002991</td>\n",
       "      <td>-0.000564</td>\n",
       "      <td>0.000060</td>\n",
       "      <td>0.001618</td>\n",
       "      <td>0.000057</td>\n",
       "    </tr>\n",
       "    <tr>\n",
       "      <th>2005-10-17</th>\n",
       "      <td>-0.003613</td>\n",
       "      <td>0.000492</td>\n",
       "      <td>0.003290</td>\n",
       "      <td>0.000458</td>\n",
       "      <td>-0.000227</td>\n",
       "      <td>0.005447</td>\n",
       "      <td>0.000057</td>\n",
       "    </tr>\n",
       "  </tbody>\n",
       "</table>\n",
       "</div>"
      ],
      "text/plain": [
       "                REEL        PE  MSCIWORLD        IG       GOV        HY  \\\n",
       "Date                                                                      \n",
       "2005-10-11  0.003231  0.006833   0.004578 -0.001342 -0.001916 -0.004075   \n",
       "2005-10-12 -0.003550 -0.009657  -0.007867 -0.002606 -0.001570 -0.004370   \n",
       "2005-10-13 -0.018599 -0.010692   0.000588 -0.002331 -0.003062 -0.003423   \n",
       "2005-10-14 -0.007856  0.001569  -0.002991 -0.000564  0.000060  0.001618   \n",
       "2005-10-17 -0.003613  0.000492   0.003290  0.000458 -0.000227  0.005447   \n",
       "\n",
       "               EONIA  \n",
       "Date                  \n",
       "2005-10-11  0.000053  \n",
       "2005-10-12  0.000057  \n",
       "2005-10-13  0.000057  \n",
       "2005-10-14  0.000057  \n",
       "2005-10-17  0.000057  "
      ]
     },
     "execution_count": 3,
     "metadata": {},
     "output_type": "execute_result"
    }
   ],
   "source": [
    "returns_df = fetch_data_df()\n",
    "returns_df = np.log(1 + returns_df)\n",
    "returns_df = np.exp(returns_df) - 1\n",
    "returns_df.head()"
   ]
  },
  {
   "cell_type": "code",
   "execution_count": 4,
   "metadata": {},
   "outputs": [
    {
     "data": {
      "text/plain": [
       "(4671, 7)"
      ]
     },
     "execution_count": 4,
     "metadata": {},
     "output_type": "execute_result"
    }
   ],
   "source": [
    "returns_df.shape"
   ]
  },
  {
   "cell_type": "code",
   "execution_count": 5,
   "metadata": {},
   "outputs": [
    {
     "data": {
      "text/html": [
       "<div>\n",
       "<style scoped>\n",
       "    .dataframe tbody tr th:only-of-type {\n",
       "        vertical-align: middle;\n",
       "    }\n",
       "\n",
       "    .dataframe tbody tr th {\n",
       "        vertical-align: top;\n",
       "    }\n",
       "\n",
       "    .dataframe thead th {\n",
       "        text-align: right;\n",
       "    }\n",
       "</style>\n",
       "<table border=\"1\" class=\"dataframe\">\n",
       "  <thead>\n",
       "    <tr style=\"text-align: right;\">\n",
       "      <th></th>\n",
       "      <th>REEL</th>\n",
       "      <th>PE</th>\n",
       "      <th>MSCIWORLD</th>\n",
       "      <th>IG</th>\n",
       "      <th>GOV</th>\n",
       "      <th>HY</th>\n",
       "      <th>EONIA</th>\n",
       "    </tr>\n",
       "  </thead>\n",
       "  <tbody>\n",
       "    <tr>\n",
       "      <th>count</th>\n",
       "      <td>4671.000000</td>\n",
       "      <td>4671.000000</td>\n",
       "      <td>4671.000000</td>\n",
       "      <td>4671.000000</td>\n",
       "      <td>4671.000000</td>\n",
       "      <td>4671.000000</td>\n",
       "      <td>4671.000000</td>\n",
       "    </tr>\n",
       "    <tr>\n",
       "      <th>mean</th>\n",
       "      <td>0.000157</td>\n",
       "      <td>0.000403</td>\n",
       "      <td>0.000374</td>\n",
       "      <td>0.000139</td>\n",
       "      <td>0.000101</td>\n",
       "      <td>0.000243</td>\n",
       "      <td>0.000025</td>\n",
       "    </tr>\n",
       "    <tr>\n",
       "      <th>std</th>\n",
       "      <td>0.013354</td>\n",
       "      <td>0.013433</td>\n",
       "      <td>0.010117</td>\n",
       "      <td>0.002496</td>\n",
       "      <td>0.002958</td>\n",
       "      <td>0.003162</td>\n",
       "      <td>0.000045</td>\n",
       "    </tr>\n",
       "    <tr>\n",
       "      <th>min</th>\n",
       "      <td>-0.114930</td>\n",
       "      <td>-0.128207</td>\n",
       "      <td>-0.100676</td>\n",
       "      <td>-0.031052</td>\n",
       "      <td>-0.016023</td>\n",
       "      <td>-0.047106</td>\n",
       "      <td>-0.000016</td>\n",
       "    </tr>\n",
       "    <tr>\n",
       "      <th>25%</th>\n",
       "      <td>-0.006142</td>\n",
       "      <td>-0.005117</td>\n",
       "      <td>-0.003994</td>\n",
       "      <td>-0.001150</td>\n",
       "      <td>-0.001447</td>\n",
       "      <td>-0.000608</td>\n",
       "      <td>-0.000010</td>\n",
       "    </tr>\n",
       "    <tr>\n",
       "      <th>50%</th>\n",
       "      <td>0.000389</td>\n",
       "      <td>0.000981</td>\n",
       "      <td>0.000815</td>\n",
       "      <td>0.000245</td>\n",
       "      <td>0.000184</td>\n",
       "      <td>0.000432</td>\n",
       "      <td>0.000003</td>\n",
       "    </tr>\n",
       "    <tr>\n",
       "      <th>75%</th>\n",
       "      <td>0.006890</td>\n",
       "      <td>0.006794</td>\n",
       "      <td>0.005322</td>\n",
       "      <td>0.001577</td>\n",
       "      <td>0.001618</td>\n",
       "      <td>0.001298</td>\n",
       "      <td>0.000064</td>\n",
       "    </tr>\n",
       "    <tr>\n",
       "      <th>max</th>\n",
       "      <td>0.095947</td>\n",
       "      <td>0.127987</td>\n",
       "      <td>0.088746</td>\n",
       "      <td>0.016284</td>\n",
       "      <td>0.020704</td>\n",
       "      <td>0.028941</td>\n",
       "      <td>0.000126</td>\n",
       "    </tr>\n",
       "  </tbody>\n",
       "</table>\n",
       "</div>"
      ],
      "text/plain": [
       "              REEL           PE    MSCIWORLD           IG          GOV  \\\n",
       "count  4671.000000  4671.000000  4671.000000  4671.000000  4671.000000   \n",
       "mean      0.000157     0.000403     0.000374     0.000139     0.000101   \n",
       "std       0.013354     0.013433     0.010117     0.002496     0.002958   \n",
       "min      -0.114930    -0.128207    -0.100676    -0.031052    -0.016023   \n",
       "25%      -0.006142    -0.005117    -0.003994    -0.001150    -0.001447   \n",
       "50%       0.000389     0.000981     0.000815     0.000245     0.000184   \n",
       "75%       0.006890     0.006794     0.005322     0.001577     0.001618   \n",
       "max       0.095947     0.127987     0.088746     0.016284     0.020704   \n",
       "\n",
       "                HY        EONIA  \n",
       "count  4671.000000  4671.000000  \n",
       "mean      0.000243     0.000025  \n",
       "std       0.003162     0.000045  \n",
       "min      -0.047106    -0.000016  \n",
       "25%      -0.000608    -0.000010  \n",
       "50%       0.000432     0.000003  \n",
       "75%       0.001298     0.000064  \n",
       "max       0.028941     0.000126  "
      ]
     },
     "execution_count": 5,
     "metadata": {},
     "output_type": "execute_result"
    }
   ],
   "source": [
    "returns_df.describe()"
   ]
  },
  {
   "cell_type": "markdown",
   "metadata": {},
   "source": [
    "## Creating Three different distributions for VaR($\\Delta$ BoF)\n",
    "Done by doing Monte Carlo Simulations\n",
    "1. Assume normal distribution\n",
    "2. Assume t-student\n",
    "3. Use GARCH (fuck this)"
   ]
  },
  {
   "cell_type": "markdown",
   "metadata": {},
   "source": [
    "**Paramters**"
   ]
  },
  {
   "cell_type": "code",
   "execution_count": 6,
   "metadata": {},
   "outputs": [],
   "source": [
    "assets_0 = 100000\n",
    "liabilities_0 = assets_0 * 0.6\n",
    "liability_growth = 0.03\n",
    "\n",
    "weights = np.array([0.1, 0.6, 0.05, 0.05, 0.05, 0.05, 0.1]) \n",
    "\n",
    "n_simulations = 100000\n",
    "n_days = 252  # 1 year is typically 252 trading days\n",
    "\n",
    "asset_classes = returns_df.columns"
   ]
  },
  {
   "cell_type": "markdown",
   "metadata": {},
   "source": [
    "### Assuming normal"
   ]
  },
  {
   "cell_type": "code",
   "execution_count": 7,
   "metadata": {},
   "outputs": [],
   "source": [
    "mean_returns = returns_df.mean()\n",
    "cov_matrix = returns_df.cov()"
   ]
  },
  {
   "cell_type": "code",
   "execution_count": 8,
   "metadata": {},
   "outputs": [
    {
     "data": {
      "image/png": "[encoded data removed]",
      "text/plain": [
       "<Figure size 1000x600 with 1 Axes>"
      ]
     },
     "metadata": {},
     "output_type": "display_data"
    }
   ],
   "source": [
    "# Simulate daily returns for 1 year using the multivariate normal distribution\n",
    "simulated_daily_returns = np.random.multivariate_normal(mean_returns, cov_matrix, (n_simulations, n_days))\n",
    "\n",
    "# Calculate cumulative returns for each asset class over 1 year\n",
    "simulated_cumulative_returns = np.cumprod(1 + simulated_daily_returns, axis=1)[:, -1] - 1\n",
    "\n",
    "plt.figure(figsize=(10, 6))\n",
    "\n",
    "colors = ['r', 'g', 'b', 'y', 'c', 'm', \"k\", \"n\"]  # Colors for each asset class (adjust to match the number of assets)\n",
    "\n",
    "for i, asset_class in enumerate(asset_classes):\n",
    "    plt.hist(simulated_cumulative_returns[:, i], bins=50, alpha=0.4, color=colors[i], label=asset_class, density=True)\n",
    "\n",
    "plt.title('Distribution of 1-Year Returns for Each Asset Class')\n",
    "plt.xlabel('Return')\n",
    "plt.ylabel('Density')\n",
    "plt.grid(True)\n",
    "plt.legend(loc='upper right')\n",
    "plt.xlim(-0.2, 0.7)\n",
    "plt.show()\n"
   ]
  },
  {
   "cell_type": "code",
   "execution_count": 9,
   "metadata": {},
   "outputs": [
    {
     "data": {
      "text/plain": [
       "((100000, 252, 7), (100000, 7))"
      ]
     },
     "execution_count": 9,
     "metadata": {},
     "output_type": "execute_result"
    }
   ],
   "source": [
    "simulated_daily_returns.shape, simulated_cumulative_returns.shape"
   ]
  },
  {
   "cell_type": "markdown",
   "metadata": {},
   "source": [
    "Now make same plot but for basic own funds"
   ]
  },
  {
   "cell_type": "code",
   "execution_count": 10,
   "metadata": {},
   "outputs": [],
   "source": [
    "def plot_BOF_distribution(simulated_daily_returns):\n",
    "    BOF_0 = assets_0 - liabilities_0  \n",
    "\n",
    "    portfolio_returns = np.dot(simulated_daily_returns, weights) \n",
    "    simulated_cumulative_returns = np.cumprod(1 + portfolio_returns, axis=1)[:, -1] - 1\n",
    "\n",
    "    assets_t1 = assets_0 * (1 + simulated_cumulative_returns)  # Assets after 1 year\n",
    "    liabilities_t1 = liabilities_0 * (1 + liability_growth)  # Liabilities after 1 year\n",
    "\n",
    "    bof_t1 = assets_t1 - liabilities_t1\n",
    "    bof_change = bof_t1 - BOF_0\n",
    "\n",
    "    scr = np.percentile(bof_change, 100 * (1 - 0.995))\n",
    "\n",
    "    plt.figure(figsize=(10, 6))\n",
    "    plt.hist(bof_change / 1e6, bins=500, alpha=0.7, color='c', label='Change in BOF Distribution', density=True)\n",
    "    plt.axvline(np.percentile(bof_change, 0.5) / 1e6, color='r', linestyle='--', label='VaR (alpha=0.995)')\n",
    "    plt.title('Distribution of Change in BOF after 1 Year: Monte Carlo')\n",
    "    plt.xlabel('Change in BOF (Millions)')\n",
    "    plt.ylabel('Density')\n",
    "    \n",
    "    plt.xlim(-2, 2)\n",
    "    plt.xticks(np.arange(-2, 2.5, 0.5))  # Increments of 0.5 within the range [-2, 2]\n",
    "\n",
    "    plt.legend()\n",
    "    plt.grid(True)\n",
    "    plt.show()\n",
    "\n",
    "    return bof_change\n",
    "\n"
   ]
  },
  {
   "cell_type": "code",
   "execution_count": 11,
   "metadata": {},
   "outputs": [
    {
     "data": {
      "image/png": "[encoded data removed]",
      "text/plain": [
       "<Figure size 1000x600 with 1 Axes>"
      ]
     },
     "metadata": {},
     "output_type": "display_data"
    }
   ],
   "source": [
    "bof_normal = plot_BOF_distribution(simulated_daily_returns)"
   ]
  },
  {
   "cell_type": "markdown",
   "metadata": {},
   "source": [
    "## Assuming t-student"
   ]
  },
  {
   "cell_type": "code",
   "execution_count": 12,
   "metadata": {},
   "outputs": [
    {
     "data": {
      "image/png": "[encoded data removed]",
      "text/plain": [
       "<Figure size 1000x600 with 1 Axes>"
      ]
     },
     "metadata": {},
     "output_type": "display_data"
    }
   ],
   "source": [
    "# Fit a t-distribution to each asset's daily returns to estimate degrees of freedom, mean, and scale\n",
    "t_params = [t.fit(returns_df[col].dropna()) for col in returns_df.columns]\n",
    "df_degrees = [params[0] for params in t_params]  # Extract degrees of freedom for each asset\n",
    "\n",
    "# Initialize an array to store simulated daily returns for all assets\n",
    "simulated_daily_returns = np.zeros((n_simulations, n_days, len(mean_returns)))\n",
    "\n",
    "# Generate daily returns for each asset using the t-distribution\n",
    "for i, (mean, std, df) in enumerate(zip(mean_returns, np.sqrt(np.diag(cov_matrix)), df_degrees)):\n",
    "    simulated_daily_returns[:, :, i] = t.rvs(df, loc=mean, scale=std, size=(n_simulations, n_days))\n",
    "\n",
    "# Calculate cumulative returns over 1 year for each simulation and asset\n",
    "simulated_cumulative_returns = np.cumprod(1 + simulated_daily_returns, axis=1)[:, -1, :] - 1\n",
    "\n",
    "# Plot the distribution of 1-year returns for each asset\n",
    "plt.figure(figsize=(10, 6))\n",
    "colors = ['r', 'g', 'b', 'y', 'c', 'm', \"k\"]  # Colors for each asset class\n",
    "\n",
    "for i, asset_class in enumerate(returns_df.columns):\n",
    "    plt.hist(\n",
    "        simulated_cumulative_returns[:, i],\n",
    "        bins=500,\n",
    "        alpha=0.4,\n",
    "        color=colors[i % len(colors)],\n",
    "        label=asset_class,\n",
    "        density=True\n",
    "    )\n",
    "\n",
    "plt.title('Distribution of 1-Year Returns for Each Asset Class (Student\\'s t-distribution)')\n",
    "plt.xlabel('Return')\n",
    "plt.ylabel('Density')\n",
    "\n",
    "# Adjust x-axis limits to broaden the view\n",
    "plt.xlim(-2, 2)  # Adjust as necessary to provide a wider view\n",
    "\n",
    "plt.grid(True)\n",
    "plt.legend(loc='upper right')\n",
    "plt.show()\n"
   ]
  },
  {
   "cell_type": "code",
   "execution_count": 13,
   "metadata": {},
   "outputs": [
    {
     "data": {
      "text/plain": [
       "((100000, 252, 7), (100000, 7))"
      ]
     },
     "execution_count": 13,
     "metadata": {},
     "output_type": "execute_result"
    }
   ],
   "source": [
    "simulated_daily_returns.shape, simulated_cumulative_returns.shape"
   ]
  },
  {
   "cell_type": "code",
   "execution_count": 14,
   "metadata": {},
   "outputs": [
    {
     "data": {
      "image/png": "[encoded data removed]",
      "text/plain": [
       "<Figure size 1000x600 with 1 Axes>"
      ]
     },
     "metadata": {},
     "output_type": "display_data"
    }
   ],
   "source": [
    "bof_t_student = plot_BOF_distribution(simulated_daily_returns)"
   ]
  },
  {
   "cell_type": "markdown",
   "metadata": {},
   "source": [
    "## Testing our VaR distributions\n",
    "\n",
    "- Christoffersen test"
   ]
  },
  {
   "cell_type": "code",
   "execution_count": 15,
   "metadata": {},
   "outputs": [],
   "source": [
    "from VaRTests import christoffersen_test"
   ]
  },
  {
   "cell_type": "code",
   "execution_count": 16,
   "metadata": {},
   "outputs": [],
   "source": [
    "confidence_level = 0.995\n",
    "\n",
    "def perform_test(dist):\n",
    "    var_threshold = np.percentile(dist, 100 * (1 - confidence_level))\n",
    "\n",
    "    violations = (dist < var_threshold).astype(int)\n",
    "\n",
    "    results = christoffersen_test(violations, confidence_level=confidence_level)\n",
    "\n",
    "    print(\"Christoffersen Test Results:\")\n",
    "    for key, value in results.items():\n",
    "        print(f\"{key}: {value:.4f}\")"
   ]
  },
  {
   "cell_type": "code",
   "execution_count": 17,
   "metadata": {},
   "outputs": [
    {
     "name": "stdout",
     "output_type": "stream",
     "text": [
      "Christoffersen Test Results:\n",
      "Unconditional Coverage Statistic: 1054370.1685\n",
      "Unconditional Coverage p-value: 0.0000\n",
      "Independence Statistic: 6290.3067\n",
      "Independence p-value: 0.0000\n",
      "Joint Test Statistic: 1060660.4752\n",
      "Joint Test p-value: 0.0000\n"
     ]
    }
   ],
   "source": [
    "perform_test(bof_t_student)"
   ]
  },
  {
   "cell_type": "code",
   "execution_count": 18,
   "metadata": {},
   "outputs": [
    {
     "name": "stdout",
     "output_type": "stream",
     "text": [
      "Christoffersen Test Results:\n",
      "Unconditional Coverage Statistic: 1054370.1685\n",
      "Unconditional Coverage p-value: 0.0000\n",
      "Independence Statistic: 6295.6947\n",
      "Independence p-value: 0.0000\n",
      "Joint Test Statistic: 1060665.8632\n",
      "Joint Test p-value: 0.0000\n"
     ]
    }
   ],
   "source": [
    "perform_test(bof_normal)"
   ]
  },
  {
   "cell_type": "code",
   "execution_count": 19,
   "metadata": {},
   "outputs": [
    {
     "ename": "NameError",
     "evalue": "name 'vartests' is not defined",
     "output_type": "error",
     "traceback": [
      "\u001b[1;31m---------------------------------------------------------------------------\u001b[0m",
      "\u001b[1;31mNameError\u001b[0m                                 Traceback (most recent call last)",
      "Cell \u001b[1;32mIn[19], line 1\u001b[0m\n\u001b[1;32m----> 1\u001b[0m \u001b[43mvartests\u001b[49m\u001b[38;5;241m.\u001b[39mkupiec_test\n",
      "\u001b[1;31mNameError\u001b[0m: name 'vartests' is not defined"
     ]
    }
   ],
   "source": [
    "vartests.kupiec_test"
   ]
  },
  {
   "cell_type": "markdown",
   "metadata": {},
   "source": [
    "## Using GARCH (fuck this)"
   ]
  },
  {
   "cell_type": "code",
   "execution_count": null,
   "metadata": {},
   "outputs": [],
   "source": [
    "n_simulations = 1000"
   ]
  },
  {
   "cell_type": "markdown",
   "metadata": {},
   "source": [
    "Testing out GARCH"
   ]
  },
  {
   "cell_type": "code",
   "execution_count": null,
   "metadata": {},
   "outputs": [
    {
     "name": "stdout",
     "output_type": "stream",
     "text": [
      "                             Constant Mean - GJR-GARCH Model Results                             \n",
      "=================================================================================================\n",
      "Dep. Variable:     FTSE EPRA Nareit Developed Europe TRI   R-squared:                       0.000\n",
      "Mean Model:                                Constant Mean   Adj. R-squared:                  0.000\n",
      "Vol Model:                                     GJR-GARCH   Log-Likelihood:               -6963.61\n",
      "Distribution:                   Standardized Student's t   AIC:                           13939.2\n",
      "Method:                               Maximum Likelihood   BIC:                           13977.9\n",
      "                                                           No. Observations:                 4682\n",
      "Date:                                   Tue, Nov 12 2024   Df Residuals:                     4681\n",
      "Time:                                           12:53:45   Df Model:                            1\n",
      "                                 Mean Model                                 \n",
      "============================================================================\n",
      "                 coef    std err          t      P>|t|      95.0% Conf. Int.\n",
      "----------------------------------------------------------------------------\n",
      "mu             0.0415  1.301e-02      3.188  1.432e-03 [1.598e-02,6.697e-02]\n",
      "                              Volatility Model                              \n",
      "============================================================================\n",
      "                 coef    std err          t      P>|t|      95.0% Conf. Int.\n",
      "----------------------------------------------------------------------------\n",
      "omega          0.0205  4.421e-03      4.643  3.438e-06 [1.186e-02,2.919e-02]\n",
      "alpha[1]       0.0269  8.805e-03      3.060  2.213e-03 [9.686e-03,4.420e-02]\n",
      "gamma[1]       0.1260  1.776e-02      7.094  1.300e-12   [9.117e-02,  0.161]\n",
      "beta[1]        0.8980  1.357e-02     66.197      0.000     [  0.871,  0.925]\n",
      "                              Distribution                              \n",
      "========================================================================\n",
      "                 coef    std err          t      P>|t|  95.0% Conf. Int.\n",
      "------------------------------------------------------------------------\n",
      "nu             8.2881      0.935      8.862  7.831e-19 [  6.455, 10.121]\n",
      "========================================================================\n",
      "\n",
      "Covariance estimator: robust\n",
      "                      Constant Mean - GJR-GARCH Model Results                       \n",
      "====================================================================================\n",
      "Dep. Variable:                      LPX50PE   R-squared:                       0.000\n",
      "Mean Model:                   Constant Mean   Adj. R-squared:                  0.000\n",
      "Vol Model:                        GJR-GARCH   Log-Likelihood:               -6685.24\n",
      "Distribution:      Standardized Student's t   AIC:                           13382.5\n",
      "Method:                  Maximum Likelihood   BIC:                           13421.2\n",
      "                                              No. Observations:                 4682\n",
      "Date:                      Tue, Nov 12 2024   Df Residuals:                     4681\n",
      "Time:                              12:53:45   Df Model:                            1\n",
      "                                Mean Model                                \n",
      "==========================================================================\n",
      "                 coef    std err          t      P>|t|    95.0% Conf. Int.\n",
      "--------------------------------------------------------------------------\n",
      "mu             0.0881  1.225e-02      7.191  6.450e-13 [6.405e-02,  0.112]\n",
      "                              Volatility Model                              \n",
      "============================================================================\n",
      "                 coef    std err          t      P>|t|      95.0% Conf. Int.\n",
      "----------------------------------------------------------------------------\n",
      "omega          0.0299  6.118e-03      4.892  9.977e-07 [1.794e-02,4.192e-02]\n",
      "alpha[1]       0.0289  1.135e-02      2.544  1.095e-02 [6.630e-03,5.111e-02]\n",
      "gamma[1]       0.1592  2.283e-02      6.976  3.032e-12     [  0.114,  0.204]\n",
      "beta[1]        0.8675  1.778e-02     48.776      0.000     [  0.833,  0.902]\n",
      "                              Distribution                              \n",
      "========================================================================\n",
      "                 coef    std err          t      P>|t|  95.0% Conf. Int.\n",
      "------------------------------------------------------------------------\n",
      "nu             7.0299      0.690     10.193  2.131e-24 [  5.678,  8.382]\n",
      "========================================================================\n",
      "\n",
      "Covariance estimator: robust\n",
      "                      Constant Mean - GJR-GARCH Model Results                       \n",
      "====================================================================================\n",
      "Dep. Variable:                   MSCI World   R-squared:                       0.000\n",
      "Mean Model:                   Constant Mean   Adj. R-squared:                  0.000\n",
      "Vol Model:                        GJR-GARCH   Log-Likelihood:               -5581.55\n",
      "Distribution:      Standardized Student's t   AIC:                           11175.1\n",
      "Method:                  Maximum Likelihood   BIC:                           11213.8\n",
      "                                              No. Observations:                 4682\n",
      "Date:                      Tue, Nov 12 2024   Df Residuals:                     4681\n",
      "Time:                              12:53:45   Df Model:                            1\n",
      "                                 Mean Model                                 \n",
      "============================================================================\n",
      "                 coef    std err          t      P>|t|      95.0% Conf. Int.\n",
      "----------------------------------------------------------------------------\n",
      "mu             0.0563  1.004e-02      5.612  1.995e-08 [3.666e-02,7.601e-02]\n",
      "                               Volatility Model                              \n",
      "=============================================================================\n",
      "                 coef    std err          t      P>|t|       95.0% Conf. Int.\n",
      "-----------------------------------------------------------------------------\n",
      "omega          0.0250  4.911e-03      5.086  3.654e-07  [1.535e-02,3.461e-02]\n",
      "alpha[1]       0.0116  8.583e-03      1.353      0.176 [-5.206e-03,2.844e-02]\n",
      "gamma[1]       0.1785  2.571e-02      6.944  3.810e-12      [  0.128,  0.229]\n",
      "beta[1]        0.8647  1.782e-02     48.533      0.000      [  0.830,  0.900]\n",
      "                              Distribution                              \n",
      "========================================================================\n",
      "                 coef    std err          t      P>|t|  95.0% Conf. Int.\n",
      "------------------------------------------------------------------------\n",
      "nu             7.0086      0.685     10.232  1.428e-24 [  5.666,  8.351]\n",
      "========================================================================\n",
      "\n",
      "Covariance estimator: robust\n",
      "                          Constant Mean - GJR-GARCH Model Results                          \n",
      "===========================================================================================\n",
      "Dep. Variable:     ICE BofA G0BC (Corporate World)   R-squared:                       0.000\n",
      "Mean Model:                          Constant Mean   Adj. R-squared:                  0.000\n",
      "Vol Model:                               GJR-GARCH   Log-Likelihood:                518.388\n",
      "Distribution:             Standardized Student's t   AIC:                          -1024.78\n",
      "Method:                         Maximum Likelihood   BIC:                          -986.066\n",
      "                                                     No. Observations:                 4682\n",
      "Date:                             Tue, Nov 12 2024   Df Residuals:                     4681\n",
      "Time:                                     12:53:45   Df Model:                            1\n",
      "                                 Mean Model                                 \n",
      "============================================================================\n",
      "                 coef    std err          t      P>|t|      95.0% Conf. Int.\n",
      "----------------------------------------------------------------------------\n",
      "mu             0.0197  2.921e-03      6.739  1.600e-11 [1.396e-02,2.541e-02]\n",
      "                               Volatility Model                              \n",
      "=============================================================================\n",
      "                 coef    std err          t      P>|t|       95.0% Conf. Int.\n",
      "-----------------------------------------------------------------------------\n",
      "omega      5.9452e-04  1.869e-04      3.181  1.466e-03  [2.282e-04,9.608e-04]\n",
      "alpha[1]       0.0506  9.423e-03      5.366  8.060e-08  [3.209e-02,6.903e-02]\n",
      "gamma[1]       0.0109  8.745e-03      1.241      0.215 [-6.290e-03,2.799e-02]\n",
      "beta[1]        0.9330  1.123e-02     83.055      0.000      [  0.911,  0.955]\n",
      "                              Distribution                              \n",
      "========================================================================\n",
      "                 coef    std err          t      P>|t|  95.0% Conf. Int.\n",
      "------------------------------------------------------------------------\n",
      "nu            11.6680      1.815      6.430  1.276e-10 [  8.111, 15.225]\n",
      "========================================================================\n",
      "\n",
      "Covariance estimator: robust\n",
      "                            Constant Mean - GJR-GARCH Model Results                            \n",
      "===============================================================================================\n",
      "Dep. Variable:     FTSE EMU Government Bond (EGBI) TRI   R-squared:                       0.000\n",
      "Mean Model:                              Constant Mean   Adj. R-squared:                  0.000\n",
      "Vol Model:                                   GJR-GARCH   Log-Likelihood:               -206.114\n",
      "Distribution:                 Standardized Student's t   AIC:                           424.227\n",
      "Method:                             Maximum Likelihood   BIC:                           462.936\n",
      "                                                         No. Observations:                 4682\n",
      "Date:                                 Tue, Nov 12 2024   Df Residuals:                     4681\n",
      "Time:                                         12:53:45   Df Model:                            1\n",
      "                                 Mean Model                                 \n",
      "============================================================================\n",
      "                 coef    std err          t      P>|t|      95.0% Conf. Int.\n",
      "----------------------------------------------------------------------------\n",
      "mu             0.0162  3.274e-03      4.961  6.995e-07 [9.828e-03,2.266e-02]\n",
      "                               Volatility Model                              \n",
      "=============================================================================\n",
      "                 coef    std err          t      P>|t|       95.0% Conf. Int.\n",
      "-----------------------------------------------------------------------------\n",
      "omega      7.1204e-04  2.580e-04      2.760  5.780e-03  [2.064e-04,1.218e-03]\n",
      "alpha[1]       0.0494  1.142e-02      4.322  1.544e-05  [2.699e-02,7.177e-02]\n",
      "gamma[1]       0.0167  1.038e-02      1.610      0.107 [-3.629e-03,3.705e-02]\n",
      "beta[1]        0.9337  1.333e-02     70.046      0.000      [  0.908,  0.960]\n",
      "                              Distribution                              \n",
      "========================================================================\n",
      "                 coef    std err          t      P>|t|  95.0% Conf. Int.\n",
      "------------------------------------------------------------------------\n",
      "nu             7.2256      0.770      9.380  6.611e-21 [  5.716,  8.735]\n",
      "========================================================================\n",
      "\n",
      "Covariance estimator: robust\n",
      "                       Constant Mean - GJR-GARCH Model Results                       \n",
      "=====================================================================================\n",
      "Dep. Variable:     ICE BofA HW00 (Global HY)   R-squared:                       0.000\n",
      "Mean Model:                    Constant Mean   Adj. R-squared:                  0.000\n",
      "Vol Model:                         GJR-GARCH   Log-Likelihood:               -2646.05\n",
      "Distribution:       Standardized Student's t   AIC:                           5304.10\n",
      "Method:                   Maximum Likelihood   BIC:                           5342.81\n",
      "                                               No. Observations:                 4682\n",
      "Date:                       Tue, Nov 12 2024   Df Residuals:                     4681\n",
      "Time:                               12:53:45   Df Model:                            1\n",
      "                                 Mean Model                                 \n",
      "============================================================================\n",
      "                 coef    std err          t      P>|t|      95.0% Conf. Int.\n",
      "----------------------------------------------------------------------------\n",
      "mu             0.0467  8.092e-03      5.774  7.755e-09 [3.086e-02,6.258e-02]\n",
      "                               Volatility Model                              \n",
      "=============================================================================\n",
      "                 coef    std err          t      P>|t|       95.0% Conf. Int.\n",
      "-----------------------------------------------------------------------------\n",
      "omega          0.3903  4.470e-03     87.321      0.000      [  0.382,  0.399]\n",
      "alpha[1]       0.2910      0.191      1.526      0.127   [-8.287e-02,  0.665]\n",
      "gamma[1]      -0.0458      0.237     -0.193      0.847      [ -0.511,  0.419]\n",
      "beta[1]    1.0139e-04  2.456e-02  4.127e-03      0.997 [-4.804e-02,4.825e-02]\n",
      "                                Distribution                                \n",
      "============================================================================\n",
      "                 coef    std err          t      P>|t|      95.0% Conf. Int.\n",
      "----------------------------------------------------------------------------\n",
      "nu           495.3078      9.215     53.749      0.000 [4.772e+02,5.134e+02]\n",
      "============================================================================\n",
      "\n",
      "Covariance estimator: robust\n"
     ]
    }
   ],
   "source": [
    "asset_returns_scaled = returns_df * 100\n",
    "\n",
    "for asset in asset_returns_scaled.columns:\n",
    "    asset_returns = asset_returns_scaled[asset].dropna()  # Replace with an actual column name\n",
    "\n",
    "    # Step 1: Fit the GJR-GARCH(1,1) model\n",
    "    gjr_garch_model = arch_model(asset_returns, vol='Garch', p=1, o=1, q=1, dist='t', rescale=False)\n",
    "    model_fit = gjr_garch_model.fit(disp=\"off\", options={'maxiter': 1000}) \n",
    "\n",
    "    # Display the model summary\n",
    "    print(model_fit.summary())"
   ]
  },
  {
   "cell_type": "code",
   "execution_count": null,
   "metadata": {},
   "outputs": [
    {
     "name": "stdout",
     "output_type": "stream",
     "text": [
      "GJR-GARCH model for FTSE EPRA Nareit Developed Europe TRI fitted.\n",
      "GJR-GARCH model for LPX50PE fitted.\n",
      "GJR-GARCH model for MSCI World fitted.\n",
      "GJR-GARCH model for ICE BofA G0BC (Corporate World) fitted.\n",
      "GJR-GARCH model for FTSE EMU Government Bond (EGBI) TRI fitted.\n",
      "GJR-GARCH model for ICE BofA HW00 (Global HY) fitted.\n",
      "Value at Risk (VaR) at 95.0% confidence level over 252 days: -1.64%\n"
     ]
    }
   ],
   "source": [
    "asset_returns_scaled = returns_df * 100  # Scale the returns by 100 if needed\n",
    "\n",
    "# Number of days to simulate\n",
    "num_simulation_days = 252\n",
    "\n",
    "# Number of simulation paths\n",
    "num_simulations = 1000\n",
    "\n",
    "# Confidence level for VaR\n",
    "confidence_level = 0.95\n",
    "\n",
    "# Step 1: Fit GJR-GARCH model to each asset\n",
    "gjr_garch_models = {}\n",
    "for asset in asset_returns_scaled.columns:\n",
    "    asset_returns = asset_returns_scaled[asset].dropna()\n",
    "    gjr_garch_model = arch_model(asset_returns, vol='Garch', p=1, o=1, q=1, dist='t', rescale=False)\n",
    "    model_fit = gjr_garch_model.fit(disp=\"off\", options={'maxiter': 1000})\n",
    "    gjr_garch_models[asset] = model_fit\n",
    "    print(f\"GJR-GARCH model for {asset} fitted.\")\n",
    "\n",
    "# Step 2: Forecast future volatility and simulate returns\n",
    "simulated_returns = np.zeros((num_simulation_days, num_simulations, len(asset_returns_scaled.columns)))\n",
    "\n",
    "for idx, (asset, model_fit) in enumerate(gjr_garch_models.items()):\n",
    "    # Forecast volatility using the GJR-GARCH model\n",
    "    forecasts = model_fit.forecast(horizon=num_simulation_days)\n",
    "    forecasted_volatility = np.sqrt(forecasts.variance.values[-1, :])\n",
    "    \n",
    "    # Simulate returns based on the forecasted volatility\n",
    "    for t in range(num_simulation_days):\n",
    "        # Generate random returns using the t-distribution scaled by the forecasted volatility\n",
    "        simulated_returns[t, :, idx] = forecasted_volatility[t] * np.random.standard_t(df=model_fit.params['nu'], size=num_simulations)\n",
    "\n",
    "# Step 3: Calculate portfolio returns using the weights\n",
    "simulated_portfolio_returns = np.einsum('tij,j->ti', simulated_returns, weights)\n",
    "\n",
    "# Step 4: Calculate VaR at the given confidence level\n",
    "var_value = np.percentile(simulated_portfolio_returns, (1 - confidence_level) * 100, axis=1)\n",
    "print(f\"Value at Risk (VaR) at {confidence_level * 100}% confidence level over {num_simulation_days} days: {var_value[-1]:.2f}%\")"
   ]
  },
  {
   "cell_type": "code",
   "execution_count": null,
   "metadata": {},
   "outputs": [],
   "source": []
  }
 ],
 "metadata": {
  "kernelspec": {
   "display_name": "packages",
   "language": "python",
   "name": "python3"
  },
  "language_info": {
   "codemirror_mode": {
    "name": "ipython",
    "version": 3
   },
   "file_extension": ".py",
   "mimetype": "text/x-python",
   "name": "python",
   "nbconvert_exporter": "python",
   "pygments_lexer": "ipython3",
   "version": "3.12.3"
  }
 },
 "nbformat": 4,
 "nbformat_minor": 2
}
