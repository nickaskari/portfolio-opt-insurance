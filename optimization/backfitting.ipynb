{
 "cells": [
  {
   "cell_type": "markdown",
   "metadata": {},
   "source": [
    "### Optimizing a portfolio when we know the future\n",
    "\n",
    "This notebook aims to optimize a portfolio when we know the future. Essentially we are backfitting what would the best portfolio at a certain time, given that we know the future. \n",
    "\n",
    "Assumes the following,\n",
    "- Convex\n",
    "- Solvency II as a constraint\n",
    "\n",
    "NB: Able to test different risk measures."
   ]
  },
  {
   "cell_type": "code",
   "execution_count": 98,
   "metadata": {},
   "outputs": [],
   "source": [
    "import cvxpy as cp\n",
    "import numpy as np\n",
    "import pandas as pd"
   ]
  },
  {
   "cell_type": "code",
   "execution_count": 99,
   "metadata": {},
   "outputs": [
    {
     "data": {
      "text/html": [
       "<div>\n",
       "<style scoped>\n",
       "    .dataframe tbody tr th:only-of-type {\n",
       "        vertical-align: middle;\n",
       "    }\n",
       "\n",
       "    .dataframe tbody tr th {\n",
       "        vertical-align: top;\n",
       "    }\n",
       "\n",
       "    .dataframe thead th {\n",
       "        text-align: right;\n",
       "    }\n",
       "</style>\n",
       "<table border=\"1\" class=\"dataframe\">\n",
       "  <thead>\n",
       "    <tr style=\"text-align: right;\">\n",
       "      <th></th>\n",
       "      <th>Equity1</th>\n",
       "      <th>Bond1</th>\n",
       "    </tr>\n",
       "  </thead>\n",
       "  <tbody>\n",
       "    <tr>\n",
       "      <th>2014-01-05</th>\n",
       "      <td>0.01</td>\n",
       "      <td>0.0050</td>\n",
       "    </tr>\n",
       "    <tr>\n",
       "      <th>2014-01-12</th>\n",
       "      <td>0.02</td>\n",
       "      <td>0.0040</td>\n",
       "    </tr>\n",
       "    <tr>\n",
       "      <th>2014-01-19</th>\n",
       "      <td>-0.01</td>\n",
       "      <td>0.0020</td>\n",
       "    </tr>\n",
       "    <tr>\n",
       "      <th>2014-01-26</th>\n",
       "      <td>0.03</td>\n",
       "      <td>0.0030</td>\n",
       "    </tr>\n",
       "    <tr>\n",
       "      <th>2014-02-02</th>\n",
       "      <td>0.02</td>\n",
       "      <td>0.0073</td>\n",
       "    </tr>\n",
       "    <tr>\n",
       "      <th>2014-02-09</th>\n",
       "      <td>0.05</td>\n",
       "      <td>0.0920</td>\n",
       "    </tr>\n",
       "    <tr>\n",
       "      <th>2014-02-16</th>\n",
       "      <td>0.01</td>\n",
       "      <td>0.0020</td>\n",
       "    </tr>\n",
       "  </tbody>\n",
       "</table>\n",
       "</div>"
      ],
      "text/plain": [
       "            Equity1   Bond1\n",
       "2014-01-05     0.01  0.0050\n",
       "2014-01-12     0.02  0.0040\n",
       "2014-01-19    -0.01  0.0020\n",
       "2014-01-26     0.03  0.0030\n",
       "2014-02-02     0.02  0.0073\n",
       "2014-02-09     0.05  0.0920\n",
       "2014-02-16     0.01  0.0020"
      ]
     },
     "execution_count": 99,
     "metadata": {},
     "output_type": "execute_result"
    }
   ],
   "source": [
    "assets = [\"Equity1\", \"Bond1\"]\n",
    "returns_df = pd.DataFrame({\n",
    "    \"Equity1\": [0.01, 0.02, -0.01, 0.03, 0.02, 0.05, 0.01],  # Future returns (01/01/2014 to 01/07/2014)\n",
    "    \"Bond1\": [0.005, 0.004, 0.002, 0.003, 0.0073, 0.092, 0.002]\n",
    "}, index=pd.date_range(\"2014-01-01\", periods=7, freq='W'))  # Weekly returns\n",
    "\n",
    "returns_df"
   ]
  },
  {
   "cell_type": "code",
   "execution_count": 100,
   "metadata": {},
   "outputs": [],
   "source": [
    "alpha = 0.95  # Confidence level for CVaR\n",
    "n = len(assets)  # Number of assets\n",
    "future_returns = returns_df.to_numpy()  # Actual future return data (e.g., 01/01/2014 to 01/01/2015)"
   ]
  },
  {
   "cell_type": "code",
   "execution_count": 101,
   "metadata": {},
   "outputs": [
    {
     "data": {
      "text/plain": [
       "Variable((2,), var849)"
      ]
     },
     "execution_count": 101,
     "metadata": {},
     "output_type": "execute_result"
    }
   ],
   "source": [
    "# Optimization variables (allocations to each asset)\n",
    "allocations = cp.Variable(n)\n",
    "allocations"
   ]
  },
  {
   "cell_type": "code",
   "execution_count": 102,
   "metadata": {},
   "outputs": [],
   "source": [
    "# Risk Measures\n",
    "def calculate_risk(allocations, returns, risk_measure=\"CVaR\"):\n",
    "    if risk_measure == \"CVaR\":\n",
    "        # Calculate CVaR using the future returns\n",
    "        VaR = cp.Variable()  # Value at Risk\n",
    "        CVaR = cp.Variable()  # Conditional Value at Risk\n",
    "        losses = -returns @ allocations\n",
    "        VaR_constraint = losses >= VaR\n",
    "        CVaR_expression = VaR + (1 / (1 - alpha)) * cp.sum(cp.pos(losses - VaR)) / len(returns)\n",
    "        return CVaR_expression, [VaR_constraint]\n",
    "\n",
    "    elif risk_measure == \"variance\":\n",
    "        # Portfolio variance as a risk measure\n",
    "        cov_matrix = np.cov(returns, rowvar=False)  # Covariance matrix based on returns\n",
    "        portfolio_risk = cp.quad_form(allocations, cov_matrix)  # Variance (quadratic form)\n",
    "        return portfolio_risk, []\n",
    "\n",
    "    # Add more risk measures as needed (e.g., VaR, DVaR, etc.)\n",
    "    else:\n",
    "        raise ValueError(\"Unsupported risk measure\")"
   ]
  },
  {
   "cell_type": "code",
   "execution_count": 103,
   "metadata": {},
   "outputs": [
    {
     "name": "stdout",
     "output_type": "stream",
     "text": [
      "Expected Return: None\n",
      "Risk Expression: None\n",
      "Future Returns Shape: (7, 2)\n",
      "Allocations Shape: (2,)\n"
     ]
    }
   ],
   "source": [
    "# Calculate future returns from 01/01/2014 onward\n",
    "risk_expression, risk_constraints = calculate_risk(allocations, future_returns, risk_measure=\"CVaR\")\n",
    "\n",
    "# Solvency II constraint: Ensure CVaR or another risk measure stays below a solvency threshold\n",
    "SCR_threshold = 0.05  # Solvency Capital Requirement (set as a threshold for the risk measure)\n",
    "solvency_constraint = risk_expression <= SCR_threshold\n",
    "\n",
    "# Objective: Maximize expected return while minimizing risk (here CVaR, but it could be any risk measure)\n",
    "expected_return = future_returns.mean(axis=0) @ allocations\n",
    "\n",
    "print(\"Expected Return:\", expected_return.value)\n",
    "print(\"Risk Expression:\", risk_expression.value)\n",
    "\n",
    "print(\"Future Returns Shape:\", future_returns.shape)\n",
    "print(\"Allocations Shape:\", allocations.shape)\n",
    "\n"
   ]
  },
  {
   "cell_type": "code",
   "execution_count": 104,
   "metadata": {},
   "outputs": [],
   "source": [
    "# Set up the optimization problem with constraints\n",
    "constraints = [\n",
    "    cp.sum(allocations) == 1,  # Weights sum to 100%\n",
    "    allocations >= 0           # No short-selling (non-negative weights)\n",
    "] + risk_constraints + [solvency_constraint]"
   ]
  },
  {
   "cell_type": "code",
   "execution_count": 105,
   "metadata": {},
   "outputs": [],
   "source": [
    "# Define the optimization problem (maximize expected return minus risk)\n",
    "problem = cp.Problem(cp.Maximize(expected_return - risk_expression), constraints)\n"
   ]
  },
  {
   "cell_type": "code",
   "execution_count": 106,
   "metadata": {},
   "outputs": [
    {
     "name": "stdout",
     "output_type": "stream",
     "text": [
      "===============================================================================\n",
      "                                     CVXPY                                     \n",
      "                                     v1.5.3                                    \n",
      "===============================================================================\n",
      "(CVXPY) Oct 15 03:24:39 PM: Your problem has 3 variables, 11 constraints, and 0 parameters.\n",
      "(CVXPY) Oct 15 03:24:39 PM: It is compliant with the following grammars: DCP, DQCP\n",
      "(CVXPY) Oct 15 03:24:39 PM: (If you need to solve this problem multiple times, but with different data, consider using parameters.)\n",
      "(CVXPY) Oct 15 03:24:39 PM: CVXPY will first compile your problem; then, it will invoke a numerical solver to obtain a solution.\n",
      "(CVXPY) Oct 15 03:24:39 PM: Your problem is compiled with the CPP canonicalization backend.\n",
      "-------------------------------------------------------------------------------\n",
      "                                  Compilation                                  \n",
      "-------------------------------------------------------------------------------\n",
      "(CVXPY) Oct 15 03:24:39 PM: Compiling problem (target solver=CLARABEL).\n",
      "(CVXPY) Oct 15 03:24:39 PM: Reduction chain: FlipObjective -> Dcp2Cone -> CvxAttr2Constr -> ConeMatrixStuffing -> CLARABEL\n",
      "(CVXPY) Oct 15 03:24:39 PM: Applying reduction FlipObjective\n",
      "(CVXPY) Oct 15 03:24:39 PM: Applying reduction Dcp2Cone\n",
      "(CVXPY) Oct 15 03:24:39 PM: Applying reduction CvxAttr2Constr\n",
      "(CVXPY) Oct 15 03:24:39 PM: Applying reduction ConeMatrixStuffing\n",
      "(CVXPY) Oct 15 03:24:39 PM: Applying reduction CLARABEL\n",
      "(CVXPY) Oct 15 03:24:39 PM: Finished problem compilation (took 9.843e-03 seconds).\n",
      "-------------------------------------------------------------------------------\n",
      "                                Numerical solver                               \n",
      "-------------------------------------------------------------------------------\n",
      "(CVXPY) Oct 15 03:24:39 PM: Invoking solver CLARABEL  to obtain a solution.\n",
      "-------------------------------------------------------------\n",
      "           Clarabel.rs v0.9.0  -  Clever Acronym                \n",
      "\n",
      "                   (c) Paul Goulart                          \n",
      "                University of Oxford, 2022                   \n",
      "-------------------------------------------------------------\n",
      "\n",
      "problem:\n",
      "  variables     = 17\n",
      "  constraints   = 39\n",
      "  nnz(P)        = 0\n",
      "  nnz(A)        = 103\n",
      "  cones (total) = 2\n",
      "    :        Zero = 1,  numel = 1\n",
      "    : Nonnegative = 1,  numel = 38\n",
      "\n",
      "settings:\n",
      "  linear algebra: direct / qdldl, precision: 64 bit\n",
      "  max iter = 200, time limit = Inf,  max step = 0.990\n",
      "  tol_feas = 1.0e-8, tol_gap_abs = 1.0e-8, tol_gap_rel = 1.0e-8,\n",
      "  static reg : on, ϵ1 = 1.0e-8, ϵ2 = 4.9e-32\n",
      "  dynamic reg: on, ϵ = 1.0e-13, δ = 2.0e-7\n",
      "  iter refine: on, reltol = 1.0e-13, abstol = 1.0e-12,\n",
      "               max iter = 10, stop ratio = 5.0\n",
      "  equilibrate: on, min_scale = 1.0e-4, max_scale = 1.0e4\n",
      "               max iter = 10\n",
      "\n",
      "iter    pcost        dcost       gap       pres      dres      k/t        μ       step      \n",
      "---------------------------------------------------------------------------------------------\n",
      "  0  -2.6417e-02  -7.0625e-02  4.42e-02  7.65e-01  7.94e-01  1.00e+00  2.16e+00   ------   \n",
      "  1  -3.3555e-01  -2.3464e-01  1.01e-01  2.42e-01  1.30e-01  2.16e-01  4.04e-01  9.02e-01  \n",
      "  2  +2.2462e-01  +3.2969e-01  1.05e-01  1.60e-01  6.42e-02  1.96e-01  2.62e-01  6.57e-01  \n",
      "  3  +4.3465e-01  +4.8326e-01  4.86e-02  4.96e-02  1.45e-02  7.42e-02  6.59e-02  7.68e-01  \n",
      "  4  +3.1647e+00  +3.5229e+00  1.13e-01  8.05e-02  3.97e-03  4.04e-01  1.81e-02  8.73e-01  \n",
      "  5  +5.7209e+01  +6.2767e+01  9.72e-02  1.13e-02  1.93e-04  5.59e+00  9.20e-04  9.50e-01  \n",
      "  6  +5.6929e+03  +6.2416e+03  9.64e-02  1.21e-04  1.94e-06  5.49e+02  9.29e-06  9.90e-01  \n",
      "  7  +5.6933e+05  +6.2420e+05  9.64e-02  1.21e-06  1.94e-08  5.49e+04  9.29e-08  9.90e-01  \n",
      "  8  +5.6932e+07  +6.2419e+07  9.64e-02  1.21e-08  1.94e-10  5.49e+06  9.29e-10  9.90e-01  \n",
      "  9  +5.6932e+09  +6.2419e+09  9.64e-02  1.21e-10  1.94e-12  5.49e+08  9.29e-12  9.90e-01  \n",
      " 10  +5.6932e+11  +6.2419e+11  9.64e-02  1.21e-12  1.93e-14  5.49e+10  9.29e-14  9.90e-01  \n",
      "---------------------------------------------------------------------------------------------\n",
      "Terminated with status = PrimalInfeasible\n",
      "solve time = 185.1µs\n",
      "-------------------------------------------------------------------------------\n",
      "                                    Summary                                    \n",
      "-------------------------------------------------------------------------------\n",
      "(CVXPY) Oct 15 03:24:39 PM: Problem status: infeasible\n",
      "(CVXPY) Oct 15 03:24:39 PM: Optimal value: -inf\n",
      "(CVXPY) Oct 15 03:24:39 PM: Compilation took 9.843e-03 seconds\n",
      "(CVXPY) Oct 15 03:24:39 PM: Solver (including time spent in interface) took 1.066e-03 seconds\n",
      "Optimal Allocations: None\n"
     ]
    }
   ],
   "source": [
    "# Solve the problem\n",
    "problem.solve(verbose = True)\n",
    "\n",
    "# Get the optimal allocations\n",
    "optimal_allocations = allocations.value\n",
    "print(\"Optimal Allocations:\", optimal_allocations)"
   ]
  },
  {
   "cell_type": "code",
   "execution_count": 107,
   "metadata": {},
   "outputs": [
    {
     "name": "stdout",
     "output_type": "stream",
     "text": [
      "Problem Status: infeasible\n"
     ]
    }
   ],
   "source": [
    "print(\"Problem Status:\", problem.status)\n"
   ]
  },
  {
   "cell_type": "code",
   "execution_count": null,
   "metadata": {},
   "outputs": [],
   "source": []
  }
 ],
 "metadata": {
  "kernelspec": {
   "display_name": "packages",
   "language": "python",
   "name": "python3"
  },
  "language_info": {
   "codemirror_mode": {
    "name": "ipython",
    "version": 3
   },
   "file_extension": ".py",
   "mimetype": "text/x-python",
   "name": "python",
   "nbconvert_exporter": "python",
   "pygments_lexer": "ipython3",
   "version": "3.12.3"
  }
 },
 "nbformat": 4,
 "nbformat_minor": 2
}
