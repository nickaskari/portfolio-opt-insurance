{
 "cells": [
  {
   "cell_type": "markdown",
   "metadata": {},
   "source": [
    "## This notebook aims to merge all the ETF data into one csv file"
   ]
  },
  {
   "cell_type": "code",
   "execution_count": 124,
   "metadata": {},
   "outputs": [],
   "source": [
    "import pandas as pd"
   ]
  },
  {
   "cell_type": "markdown",
   "metadata": {},
   "source": [
    "Add some ETF data to the etf folder. Make sure that you choose the correct dates. Then add its name into the array below, and run this script to get a brand new csv with data from all the mentioned csv's. Also remember that the prices must be in USD."
   ]
  },
  {
   "cell_type": "code",
   "execution_count": 125,
   "metadata": {},
   "outputs": [],
   "source": [
    "'''\n",
    "file_names = [\n",
    "    'AGGG ETF Stock Price History.csv',\n",
    "    'FXI ETF Stock Price History.csv',\n",
    "    'HYG ETF Stock Price History.csv',\n",
    "    'S&P 500 Historical Data.csv'\n",
    "]\n",
    "'''\n",
    "\n",
    "file_names = [\n",
    "    'ACWI.csv',\n",
    "    'AGGG.csv',\n",
    "    'AHYG.csv',\n",
    "    'BWX.csv',\n",
    "    'EDIV.csv',\n",
    "    'EEM.csv',\n",
    "    'EFA.csv',\n",
    "    'EFAS.csv',\n",
    "    'EMB.csv',\n",
    "    'EPP.csv',\n",
    "    'EWC.csv',\n",
    "    'EWG.csv',\n",
    "    'EWJ.csv',\n",
    "    'EWU.csv',\n",
    "    'EWZ.csv',\n",
    "    'FXI.csv',\n",
    "    'GHYG.csv',\n",
    "    'GLD.csv',\n",
    "    'GOVT.csv',\n",
    "    'HYG.csv',\n",
    "    'INDA.csv',\n",
    "    'IWM.csv',\n",
    "    'JNK.csv',\n",
    "    'LQD.csv',\n",
    "    'PSP.csv', \n",
    "    'REET.csv', \n",
    "    'SAUS.csv',\n",
    "    'SDY.csv',\n",
    "    'SPY.csv',\n",
    "    'TLT.csv',\n",
    "    'URTH.csv',\n",
    "    'VEU.csv',\n",
    "    'VTI.csv',\n",
    "    'VWOB.csv',\n",
    "]\n",
    "\n"
   ]
  },
  {
   "cell_type": "code",
   "execution_count": 126,
   "metadata": {},
   "outputs": [],
   "source": [
    "merged_df = pd.DataFrame()"
   ]
  },
  {
   "cell_type": "code",
   "execution_count": 127,
   "metadata": {},
   "outputs": [
    {
     "name": "stdout",
     "output_type": "stream",
     "text": [
      "  Exchange Date   Close      %Chg    Open      Low     High   Volume  \\\n",
      "0    2024-10-10  119.41 -0.001004  119.32  118.950  119.595   653784   \n",
      "1    2024-10-09  119.53  0.004116  118.70  118.610  119.640  1163028   \n",
      "2    2024-10-08  119.04  0.002611  118.72  118.540  119.140  1346099   \n",
      "3    2024-10-07  118.73 -0.006277  119.35  118.395  119.380  2220201   \n",
      "4    2024-10-04  119.48  0.008440  119.24  118.630  119.575   907360   \n",
      "\n",
      "   Turnover - USD  \n",
      "0      78022416.0  \n",
      "1     138805055.0  \n",
      "2     159973099.0  \n",
      "3     263942542.0  \n",
      "4     108049421.0  \n"
     ]
    }
   ],
   "source": [
    "df = pd.read_csv('etf_csv/ACWI.csv')\n",
    "\n",
    "print(df.head())"
   ]
  },
  {
   "cell_type": "code",
   "execution_count": 128,
   "metadata": {},
   "outputs": [
    {
     "name": "stdout",
     "output_type": "stream",
     "text": [
      "  Exchange Date  ACWI.csv  AGGG.csv  AHYG.csv  BWX.csv  EDIV.csv    EEM.csv  \\\n",
      "4    2012-01-16       NaN       NaN       NaN      NaN       NaN        NaN   \n",
      "3    2012-01-13     42.82       NaN       NaN      NaN     48.10  39.054417   \n",
      "2    2012-01-12     43.17       NaN      9.98      NaN     48.57  39.412259   \n",
      "1    2012-01-11     43.15       NaN       NaN      NaN     48.23  39.253218   \n",
      "0    2012-01-10     43.00       NaN       NaN      NaN     48.18  39.221410   \n",
      "\n",
      "   EFA.csv  EFAS.csv  EMB.csv  ...  PSP.csv  REET.csv   SAUS.csv  SDY.csv  \\\n",
      "4      NaN       NaN      NaN  ...      NaN       NaN  25.752980      NaN   \n",
      "3    49.60       NaN   108.23  ...    41.40       NaN  25.709559    54.24   \n",
      "2    50.14       NaN   108.27  ...    41.70       NaN  25.807986    54.42   \n",
      "1    49.93       NaN   108.18  ...    41.15       NaN  25.726453    54.31   \n",
      "0    50.09       NaN   108.21  ...    40.90       NaN  25.780137    54.42   \n",
      "\n",
      "   SPY.csv  TLT.csv  URTH.csv  VEU.csv  VTI.csv  VWOB.csv  \n",
      "4      NaN      NaN       NaN      NaN      NaN       NaN  \n",
      "3   128.84   120.88       NaN    40.09    66.15       NaN  \n",
      "2   129.51   119.69       NaN    40.50    66.46       NaN  \n",
      "1   129.20   119.86       NaN    40.31    66.30       NaN  \n",
      "0   129.13   118.32       NaN    40.40    66.18       NaN  \n",
      "\n",
      "[5 rows x 35 columns]\n"
     ]
    }
   ],
   "source": [
    "''' make a df for all the csv files stored in etf_csv, removing every column except\n",
    " 'Exchange Date' and 'Close'. Then merge them into one df on 'Exchange Date'. The \n",
    "  'Close' column for each df, should be renamed to the ETF name . '''\n",
    "\n",
    "for file in file_names:\n",
    "    df = pd.read_csv('etf_csv/' + file)\n",
    "    df = df[['Exchange Date', 'Close']]\n",
    "    \n",
    "    df.rename(columns={'Close': file}, inplace=True)\n",
    "    if merged_df.empty:\n",
    "        merged_df = df\n",
    "    else:\n",
    "        merged_df = pd.merge(merged_df, df, on='Exchange Date', how='outer')\n",
    "        merged_df.sort_values(by='Exchange Date',\n",
    "                              ascending=False, inplace=True)\n",
    "\n",
    "\n",
    "print(merged_df.tail())\n"
   ]
  },
  {
   "cell_type": "markdown",
   "metadata": {},
   "source": [
    "Setting the date as the index"
   ]
  },
  {
   "cell_type": "code",
   "execution_count": 129,
   "metadata": {},
   "outputs": [],
   "source": [
    "merged_df.to_csv('asset_classes.csv', index=False)"
   ]
  },
  {
   "cell_type": "markdown",
   "metadata": {},
   "source": []
  }
 ],
 "metadata": {
  "kernelspec": {
   "display_name": "packages",
   "language": "python",
   "name": "python3"
  },
  "language_info": {
   "codemirror_mode": {
    "name": "ipython",
    "version": 3
   },
   "file_extension": ".py",
   "mimetype": "text/x-python",
   "name": "python",
   "nbconvert_exporter": "python",
   "pygments_lexer": "ipython3",
   "version": "3.10.11"
  }
 },
 "nbformat": 4,
 "nbformat_minor": 2
}
