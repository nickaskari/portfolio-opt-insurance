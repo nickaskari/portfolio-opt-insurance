{
 "cells": [
  {
   "cell_type": "markdown",
   "metadata": {},
   "source": [
    "## This notebook aims to merge all the ETF data into one csv file"
   ]
  },
  {
   "cell_type": "code",
   "execution_count": 137,
   "metadata": {},
   "outputs": [],
   "source": [
    "import pandas as pd"
   ]
  },
  {
   "cell_type": "markdown",
   "metadata": {},
   "source": [
    "Add some ETF data to the etf folder. Make sure that you choose the correct dates. Then add its name into the array below, and run this script to get a brand new csv with data from all the mentioned csv's. Also remember that the prices must be in USD."
   ]
  },
  {
   "cell_type": "code",
   "execution_count": 138,
   "metadata": {},
   "outputs": [],
   "source": [
    "'''\n",
    "file_names = [\n",
    "    'AGGG ETF Stock Price History.csv',\n",
    "    'FXI ETF Stock Price History.csv',\n",
    "    'HYG ETF Stock Price History.csv',\n",
    "    'S&P 500 Historical Data.csv'\n",
    "]\n",
    "'''\n",
    "\n",
    "file_names = [\n",
    "    'ACWI.csv',\n",
    "    'AGGG.csv',\n",
    "    'AHYG.csv',\n",
    "    'BWX.csv',\n",
    "    'EDIV.csv',\n",
    "    'EEM.csv',\n",
    "    'EFA.csv',\n",
    "    'EFAS.csv',\n",
    "    'EMB.csv',\n",
    "    'EPP.csv',\n",
    "    'EWC.csv',\n",
    "    'EWG.csv',\n",
    "    'EWJ.csv',\n",
    "    'EWU.csv',\n",
    "    'EWZ.csv',\n",
    "    'FXI.csv',\n",
    "    'GHYG.csv',\n",
    "    'GLD.csv',\n",
    "    'GOVT.csv',\n",
    "    'HYG.csv',\n",
    "    'INDA.csv',\n",
    "    'IWM.csv',\n",
    "    'JNK.csv',\n",
    "    'LQD.csv',\n",
    "    'PSP.csv', \n",
    "    'REET.csv', \n",
    "    'SAUS.csv',\n",
    "    'SDY.csv',\n",
    "    'SPY.csv',\n",
    "    'TLT.csv',\n",
    "    'URTH.csv',\n",
    "    'VEU.csv',\n",
    "    'VTI.csv',\n",
    "    'VWOB.csv',\n",
    "]\n",
    "\n"
   ]
  },
  {
   "cell_type": "code",
   "execution_count": 139,
   "metadata": {},
   "outputs": [],
   "source": [
    "merged_df = pd.DataFrame()"
   ]
  },
  {
   "cell_type": "code",
   "execution_count": 140,
   "metadata": {},
   "outputs": [
    {
     "name": "stdout",
     "output_type": "stream",
     "text": [
      "  Exchange Date   Close      %Chg    Open      Low     High   Volume  \\\n",
      "0    2024-10-10  119.41 -0.001004  119.32  118.950  119.595   653784   \n",
      "1    2024-10-09  119.53  0.004116  118.70  118.610  119.640  1163028   \n",
      "2    2024-10-08  119.04  0.002611  118.72  118.540  119.140  1346099   \n",
      "3    2024-10-07  118.73 -0.006277  119.35  118.395  119.380  2220201   \n",
      "4    2024-10-04  119.48  0.008440  119.24  118.630  119.575   907360   \n",
      "\n",
      "   Turnover - USD  \n",
      "0      78022416.0  \n",
      "1     138805055.0  \n",
      "2     159973099.0  \n",
      "3     263942542.0  \n",
      "4     108049421.0  \n"
     ]
    }
   ],
   "source": [
    "df = pd.read_csv('etf_csv/ACWI.csv')\n",
    "\n",
    "print(df.head())"
   ]
  },
  {
   "cell_type": "code",
   "execution_count": 141,
   "metadata": {},
   "outputs": [
    {
     "name": "stdout",
     "output_type": "stream",
     "text": [
      "     Exchange Date    ACWI    AGGG  AHYG     BWX   EDIV    EEM    EFA  \\\n",
      "3308    2024-10-10  119.41  4.3990  6.70  22.500  37.05  46.03  81.88   \n",
      "3307    2024-10-09  119.53  4.3965  6.68  22.515  36.94  45.94  81.98   \n",
      "3306    2024-10-08  119.04  4.4055  6.68  22.655  37.21  46.19  81.96   \n",
      "3305    2024-10-07  118.73  4.4050  6.69  22.655  37.96  47.36  82.09   \n",
      "3304    2024-10-04  119.48  4.4075  6.69  22.700  37.56  46.97  82.55   \n",
      "\n",
      "         EFAS    EMB  ...      PSP   REET       SAUS     SDY     SPY    TLT  \\\n",
      "3308  15.1600  91.94  ...  67.1200  25.72  53.485852  140.19  576.13  94.08   \n",
      "3307  15.1100  92.09  ...  67.3000  25.89  53.554391  140.61  577.14  94.45   \n",
      "3306  15.1100  92.24  ...  67.2759  25.82  53.503335  139.89  573.17  94.99   \n",
      "3305  15.1102  92.09  ...  67.2500  25.84  53.993589  139.80  567.80  94.83   \n",
      "3304  15.2100  92.51  ...  68.1424  26.15  53.932820  140.86  572.98  95.55   \n",
      "\n",
      "        URTH    VEU     VTI   VWOB  \n",
      "3308  156.42  62.13  283.91  65.20  \n",
      "3307  156.69  62.18  284.50  65.27  \n",
      "3306  156.11  62.28  282.53  65.30  \n",
      "3305  154.78  62.81  280.17  65.28  \n",
      "3304  156.25  62.93  282.75  65.54  \n",
      "\n",
      "[5 rows x 35 columns]\n"
     ]
    }
   ],
   "source": [
    "''' make a df for all the csv files stored in etf_csv, removing every column except\n",
    " 'Exchange Date' and 'Close'. Then merge them into one df on 'Exchange Date'. The \n",
    "  'Close' column for each df, should be renamed to the ETF name . '''\n",
    "\n",
    "for file in file_names:\n",
    "    df = pd.read_csv('etf_csv/' + file)\n",
    "    df = df[['Exchange Date', 'Close']]\n",
    "\n",
    "    filename = file.split('.')[0]\n",
    "    \n",
    "    df.rename(columns={'Close': filename}, inplace=True)\n",
    "    if merged_df.empty:\n",
    "        merged_df = df\n",
    "    else:\n",
    "        merged_df = pd.merge(merged_df, df, on='Exchange Date', how='outer')\n",
    "        merged_df.sort_values(by='Exchange Date', ascending=False, inplace=True)\n",
    "\n",
    "\n",
    "print(merged_df.head())"
   ]
  },
  {
   "cell_type": "markdown",
   "metadata": {},
   "source": [
    "Setting the date as the index"
   ]
  },
  {
   "cell_type": "code",
   "execution_count": 142,
   "metadata": {},
   "outputs": [],
   "source": [
    "merged_df.to_csv('asset_classes.csv', index=False)"
   ]
  },
  {
   "cell_type": "markdown",
   "metadata": {},
   "source": []
  }
 ],
 "metadata": {
  "kernelspec": {
   "display_name": "packages",
   "language": "python",
   "name": "python3"
  },
  "language_info": {
   "codemirror_mode": {
    "name": "ipython",
    "version": 3
   },
   "file_extension": ".py",
   "mimetype": "text/x-python",
   "name": "python",
   "nbconvert_exporter": "python",
   "pygments_lexer": "ipython3",
   "version": "3.10.11"
  }
 },
 "nbformat": 4,
 "nbformat_minor": 2
}
