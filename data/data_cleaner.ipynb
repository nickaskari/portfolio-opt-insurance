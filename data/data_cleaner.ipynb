{
 "cells": [
  {
   "cell_type": "markdown",
   "metadata": {},
   "source": [
    "## This notebook aims to merge all the ETF data into one csv file"
   ]
  },
  {
   "cell_type": "code",
   "execution_count": 10,
   "metadata": {},
   "outputs": [],
   "source": [
    "import pandas as pd"
   ]
  },
  {
   "cell_type": "markdown",
   "metadata": {},
   "source": [
    "Add some ETF data to the etf folder. Make sure that you choose the correct dates. Then add its name into the array below, and run this script to get a brand new csv with data from all the mentioned csv's. Also remember that the prices must be in USD."
   ]
  },
  {
   "cell_type": "code",
   "execution_count": 11,
   "metadata": {},
   "outputs": [],
   "source": [
    "file_names = [\n",
    "    'AGGG ETF Stock Price History.csv',\n",
    "    'FXI ETF Stock Price History.csv',\n",
    "    'HYG ETF Stock Price History.csv',\n",
    "    'S&P 500 Historical Data.csv'\n",
    "]"
   ]
  },
  {
   "cell_type": "code",
   "execution_count": 12,
   "metadata": {},
   "outputs": [],
   "source": [
    "merged_df = pd.DataFrame()"
   ]
  },
  {
   "cell_type": "code",
   "execution_count": 13,
   "metadata": {},
   "outputs": [],
   "source": [
    "for i, file in enumerate(file_names):\n",
    "    path = 'etf/' + file\n",
    "    df = pd.read_csv(path)\n",
    "    \n",
    "    df = df[['Date', 'Price']]\n",
    "\n",
    "    custom_name = file.split()[0]\n",
    "    \n",
    "    # Rename 'Price' column to reflect the file number (or any other identifier)\n",
    "    df.rename(columns={'Price': custom_name}, inplace=True)\n",
    "\n",
    "    if merged_df.empty:\n",
    "        merged_df = df\n",
    "    else:\n",
    "        merged_df = pd.merge(merged_df, df, on='Date')"
   ]
  },
  {
   "cell_type": "code",
   "execution_count": 14,
   "metadata": {},
   "outputs": [],
   "source": [
    "merged_df.to_csv('asset_classes.csv', index=False)"
   ]
  }
 ],
 "metadata": {
  "kernelspec": {
   "display_name": "packages",
   "language": "python",
   "name": "python3"
  },
  "language_info": {
   "codemirror_mode": {
    "name": "ipython",
    "version": 3
   },
   "file_extension": ".py",
   "mimetype": "text/x-python",
   "name": "python",
   "nbconvert_exporter": "python",
   "pygments_lexer": "ipython3",
   "version": "3.10.2"
  }
 },
 "nbformat": 4,
 "nbformat_minor": 2
}
