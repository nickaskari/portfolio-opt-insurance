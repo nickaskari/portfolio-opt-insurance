{
 "cells": [
  {
   "cell_type": "code",
   "execution_count": 33,
   "metadata": {},
   "outputs": [],
   "source": [
    "import pandas as pd\n",
    "import glob\n",
    "import os"
   ]
  },
  {
   "cell_type": "markdown",
   "metadata": {},
   "source": [
    "# Data converter\n",
    "\n",
    "- Data comes from XL in three formats, and put into the folder excel_data.\n",
    "\n",
    "- Data can also come from csv's from csv_folder\n",
    "\n",
    "- All data is converted to the right formatting as a csv inside final_etf_data"
   ]
  },
  {
   "cell_type": "code",
   "execution_count": 34,
   "metadata": {},
   "outputs": [],
   "source": [
    "etf_files_path = 'final_etf_csv'"
   ]
  },
  {
   "cell_type": "markdown",
   "metadata": {},
   "source": [
    "## Converts all XL data to correctly format csv files"
   ]
  },
  {
   "cell_type": "code",
   "execution_count": 35,
   "metadata": {},
   "outputs": [],
   "source": [
    "excel_files_path = 'excel_data/format_'\n",
    "num_formats = 3"
   ]
  },
  {
   "cell_type": "code",
   "execution_count": 36,
   "metadata": {},
   "outputs": [],
   "source": [
    "format_1 = [\n",
    "    'GlobalPE.xlsx',\n",
    "    'STOXX600.xlsx'\n",
    "]\n",
    "\n",
    "format_2 = [\n",
    "    'FTSE EMU Government Bond (EGBI) TRI.xlsx',\n",
    "    'FTSECORP.xlsx',\n",
    "    'FTSECORPALT.xlsx',\n",
    "    'FTSEGOV.xlsx',\n",
    "    'FTWBIGUSDT.xlsx'\n",
    "    \n",
    "]\n",
    "\n",
    "format_3 = [\n",
    "    'FTSE EPRA Nareit Developed Europe TRI.xlsx',\n",
    "    'MSCI World.xlsx',\n",
    "    'PE.xlsx',\n",
    "    'FTSE EPRA Nareit Developed Europe.xlsx',\n",
    "    'LPX50PE.xlsx',\n",
    "    'MSCI ACWI.xlsx',\n",
    "    'MSCI EUROPE.xlsx',\n",
    "    'MSCI EMU.xlsx',\n",
    "    'LPX50 Eur TR.xlsx',\n",
    "    'MSCI World Net Index EUR.xlsx'\n",
    "]"
   ]
  },
  {
   "cell_type": "code",
   "execution_count": 37,
   "metadata": {},
   "outputs": [
    {
     "name": "stdout",
     "output_type": "stream",
     "text": [
      "Deleted: final_etf_csv\\EURIBOR 1 Month.csv\n",
      "Deleted: final_etf_csv\\FTSE EMU Government Bond (EGBI) TRI.csv\n",
      "Deleted: final_etf_csv\\FTSE EPRA Nareit Developed Europe TRI.csv\n",
      "Deleted: final_etf_csv\\FTSE EPRA Nareit Developed Europe.csv\n",
      "Deleted: final_etf_csv\\FTSECORP.csv\n",
      "Deleted: final_etf_csv\\FTSECORPALT.csv\n",
      "Deleted: final_etf_csv\\FTWBIGUSDT.csv\n",
      "Deleted: final_etf_csv\\GlobalPE.csv\n",
      "Deleted: final_etf_csv\\ICE BofA EBL0 (Euro Large Cap Corporate).csv\n",
      "Deleted: final_etf_csv\\ICE BofA ER00 (Euro Corporate).csv\n",
      "Deleted: final_etf_csv\\ICE BofA G0BC (Corporate World).csv\n",
      "Deleted: final_etf_csv\\ICE BofA HE00 (Euro HY).csv\n",
      "Deleted: final_etf_csv\\ICE BofA HW00 (Global HY).csv\n",
      "Deleted: final_etf_csv\\LPX50 Eur TR.csv\n",
      "Deleted: final_etf_csv\\LPX50PE.csv\n",
      "Deleted: final_etf_csv\\MSCI ACWI.csv\n",
      "Deleted: final_etf_csv\\MSCI EMU.csv\n",
      "Deleted: final_etf_csv\\MSCI World 2.csv\n",
      "Deleted: final_etf_csv\\MSCI World Net Index EUR.csv\n",
      "Deleted: final_etf_csv\\MSCI World.csv\n",
      "Deleted: final_etf_csv\\PE.csv\n",
      "Deleted: final_etf_csv\\STOXX600.csv\n"
     ]
    }
   ],
   "source": [
    "# Deletes every csv in final_etf_csv\n",
    "files = glob.glob(os.path.join(etf_files_path, '*'))\n",
    "\n",
    "for file in files:\n",
    "    try:\n",
    "        os.remove(file)\n",
    "        print(f\"Deleted: {file}\")\n",
    "    except Exception as e:\n",
    "        print(f\"Error deleting {file}: {e}\")"
   ]
  },
  {
   "cell_type": "code",
   "execution_count": 38,
   "metadata": {},
   "outputs": [
    {
     "name": "stdout",
     "output_type": "stream",
     "text": [
      "Converted GlobalPE.xlsx to CSV and saved as final_etf_csv\\GlobalPE.csv\n",
      "Converted STOXX600.xlsx to CSV and saved as final_etf_csv\\STOXX600.csv\n",
      "Converted FTSE EMU Government Bond (EGBI) TRI.xlsx to CSV and saved as final_etf_csv\\FTSE EMU Government Bond (EGBI) TRI.csv\n",
      "Converted FTSECORP.xlsx to CSV and saved as final_etf_csv\\FTSECORP.csv\n",
      "Converted FTSECORPALT.xlsx to CSV and saved as final_etf_csv\\FTSECORPALT.csv\n",
      "Converted FTWBIGUSDT.xlsx to CSV and saved as final_etf_csv\\FTWBIGUSDT.csv\n",
      "Converted FTSE EPRA Nareit Developed Europe TRI.xlsx to CSV and saved as final_etf_csv\\FTSE EPRA Nareit Developed Europe TRI.csv\n",
      "Converted FTSE EPRA Nareit Developed Europe.xlsx to CSV and saved as final_etf_csv\\FTSE EPRA Nareit Developed Europe.csv\n",
      "Converted LPX50 Eur TR.xlsx to CSV and saved as final_etf_csv\\LPX50 Eur TR.csv\n",
      "Converted LPX50PE.xlsx to CSV and saved as final_etf_csv\\LPX50PE.csv\n",
      "Converted MSCI ACWI.xlsx to CSV and saved as final_etf_csv\\MSCI ACWI.csv\n",
      "Converted MSCI EMU.xlsx to CSV and saved as final_etf_csv\\MSCI EMU.csv\n",
      "Converted MSCI World Net Index EUR.xlsx to CSV and saved as final_etf_csv\\MSCI World Net Index EUR.csv\n",
      "Converted MSCI World.xlsx to CSV and saved as final_etf_csv\\MSCI World.csv\n",
      "Converted PE.xlsx to CSV and saved as final_etf_csv\\PE.csv\n"
     ]
    }
   ],
   "source": [
    "for i in range(1, 1 + num_formats):\n",
    "    formated_files_path = excel_files_path + str(i)\n",
    "    for filename in os.listdir(formated_files_path):\n",
    "        if filename.endswith(\".xlsx\"):\n",
    "            file_path = os.path.join(formated_files_path, filename)\n",
    "\n",
    "            if filename in format_1:\n",
    "                df = pd.read_excel(file_path, header=None)\n",
    "                keyword_row_index = df[df.iloc[:, 0] == 'Exchange Date'].index[0]\n",
    "\n",
    "                df = pd.read_excel(file_path, skiprows=keyword_row_index)\n",
    "                df = df[['Exchange Date', 'Close']]\n",
    "                df.dropna(subset=['Exchange Date', 'Close'], inplace=True)\n",
    "                df.rename(columns={'Exchange Date' : 'Date', 'Close': 'Price'}, inplace=True)\n",
    "\n",
    "            elif filename in format_2:\n",
    "                df = pd.read_excel(file_path, skiprows=10)  \n",
    "                df = df[['Date', 'Trade Price']]\n",
    "                df.dropna(subset=['Date', 'Trade Price'], inplace=True)\n",
    "                df.rename(columns={'Trade Price': 'Price'}, inplace=True)\n",
    "\n",
    "            elif filename in format_3:\n",
    "                df = pd.read_excel(file_path, skiprows=17)\n",
    "                df = df[['Exchange Date', 'Close']]\n",
    "                df.dropna(subset=['Exchange Date', 'Close'], inplace=True)\n",
    "                df.rename(columns={'Exchange Date' : 'Date', 'Close': 'Price'}, inplace=True)\n",
    "            \n",
    "            else:\n",
    "                continue\n",
    "            \n",
    "            csv_file_path = os.path.join(etf_files_path, f\"{os.path.splitext(filename)[0]}.csv\")\n",
    "            \n",
    "            # Save to CSV\n",
    "            df.to_csv(csv_file_path, index=False)\n",
    "            \n",
    "            print(f\"Converted {filename} to CSV and saved as {csv_file_path}\")"
   ]
  },
  {
   "cell_type": "markdown",
   "metadata": {},
   "source": [
    "## Converts imported CSVs into correct format in the right folder"
   ]
  },
  {
   "cell_type": "code",
   "execution_count": 39,
   "metadata": {},
   "outputs": [],
   "source": [
    "csv_file_path = 'csv_data'"
   ]
  },
  {
   "cell_type": "code",
   "execution_count": 40,
   "metadata": {},
   "outputs": [],
   "source": [
    "csv_files = [\n",
    "    'ICE BofA EBL0 (Euro Large Cap Corporate).csv',\n",
    "    'ICE BofA ER00 (Euro Corporate).csv',\n",
    "    'ICE BofA G0BC (Corporate World).csv',\n",
    "    'ICE BofA HE00 (Euro HY).csv',\n",
    "    'ICE BofA HW00 (Global HY).csv',\n",
    "    'MSCI World 2.csv',\n",
    "    'EURIBOR 1 Month.csv'\n",
    "]"
   ]
  },
  {
   "cell_type": "code",
   "execution_count": 41,
   "metadata": {},
   "outputs": [
    {
     "name": "stdout",
     "output_type": "stream",
     "text": [
      "Processed and saved: final_etf_csv\\EURIBOR 1 Month.csv\n",
      "Processed and saved: final_etf_csv\\ICE BofA EBL0 (Euro Large Cap Corporate).csv\n",
      "Processed and saved: final_etf_csv\\ICE BofA ER00 (Euro Corporate).csv\n",
      "Processed and saved: final_etf_csv\\ICE BofA G0BC (Corporate World).csv\n",
      "Processed and saved: final_etf_csv\\ICE BofA HE00 (Euro HY).csv\n",
      "Processed and saved: final_etf_csv\\ICE BofA HW00 (Global HY).csv\n",
      "Processed and saved: final_etf_csv\\MSCI World 2.csv\n"
     ]
    }
   ],
   "source": [
    "for file in os.listdir(csv_file_path):\n",
    "    if file.endswith('.csv'):\n",
    "        file_path = os.path.join(csv_file_path, file)\n",
    "        if file in csv_files:\n",
    "            with open(file_path, 'r', encoding='utf-8') as f:\n",
    "                first_line = f.readline().strip()\n",
    "            \n",
    "            if first_line.startswith(\"sep=\"):\n",
    "                sep = first_line.split('=')[1]\n",
    "                df = pd.read_csv(file_path, sep=sep, skiprows=1)\n",
    "            else:\n",
    "                df = pd.read_csv(file_path, sep=';')\n",
    "\n",
    "            # Process Format 1: [\"Date\"; \"Line(Q.MERER00)\"]\n",
    "            if df.columns[0] == 'Date' and len(df.columns) == 2:\n",
    "                df.columns = ['Date', 'Price']\n",
    "                df['Date'] = pd.to_datetime(df['Date'], format='%d.%m.%Y', errors='coerce')\n",
    "                \n",
    "                df['Price'] = df['Price'].apply(lambda x: str(x).replace(',', '.') if isinstance(x, str) else x)\n",
    "                df['Price'] = pd.to_numeric(df['Price'], errors='coerce')\n",
    "\n",
    "            # Process Format 2: [\"Date;Open;High;Low;Last;Volume;Status\"]\n",
    "            elif 'Date' in df.columns and 'Last' in df.columns:\n",
    "                df = df[['Date', 'Open']]\n",
    "                df.rename(columns={'Open': 'Price'}, inplace=True)\n",
    "                df.columns = ['Date', 'Price']\n",
    "                df['Date'] = pd.to_datetime(df['Date'], format='%d.%m.%Y', errors='coerce')\n",
    "                \n",
    "                df['Price'] = df['Price'].apply(lambda x: str(x).replace(',', '.') if isinstance(x, str) else x)\n",
    "                df['Price'] = pd.to_numeric(df['Price'], errors='coerce')\n",
    "            \n",
    "            elif 'Date' in df.columns and 'Last(QEURIBOR1MD=)' in df.columns:\n",
    "                df = df[['Date', 'Last(QEURIBOR1MD=)']]\n",
    "                df.rename(columns={'Last(QEURIBOR1MD=)': 'Price'}, inplace=True)\n",
    "                df.columns = ['Date', 'Price']\n",
    "                df['Date'] = pd.to_datetime(df['Date'], format='%d.%m.%Y', errors='coerce')\n",
    "                \n",
    "                df['Price'] = df['Price'].apply(lambda x: str(x).replace(',', '.') if isinstance(x, str) else x)\n",
    "                df['Price'] = pd.to_numeric(df['Price'], errors='coerce')\n",
    "\n",
    "            else:\n",
    "                print(f\"Skipping unrecognized format in file: {file}\")\n",
    "                continue\n",
    "\n",
    "            df['Date'] = df['Date'].dt.strftime('%Y-%m-%d')\n",
    "\n",
    "            output_file_path = os.path.join(etf_files_path, file)\n",
    "            df.to_csv(output_file_path, index=False, sep=',', header=['Date', 'Price'])\n",
    "            print(f\"Processed and saved: {output_file_path}\")"
   ]
  },
  {
   "cell_type": "markdown",
   "metadata": {},
   "source": [
    "## Handling EONIA data"
   ]
  },
  {
   "cell_type": "code",
   "execution_count": 42,
   "metadata": {},
   "outputs": [],
   "source": [
    "file_path = \"eonia_data/EONIA.xls\"\n",
    "\n",
    "df = pd.read_excel(file_path, skiprows=10)\n",
    "df = df[['observation_date', 'EONIARATE']]\n",
    "df.dropna(subset=['observation_date', 'EONIARATE'], inplace=True)\n",
    "df.rename(columns={'observation_date' : 'Date', 'EONIARATE': 'Rate'}, inplace=True)\n",
    "df['Date'] = df['Date'].dt.strftime('%Y-%m-%d')"
   ]
  },
  {
   "cell_type": "code",
   "execution_count": 43,
   "metadata": {},
   "outputs": [],
   "source": [
    "# Reversing\n",
    "df = df.iloc[::-1]"
   ]
  },
  {
   "cell_type": "code",
   "execution_count": 44,
   "metadata": {},
   "outputs": [
    {
     "data": {
      "text/html": [
       "<div>\n",
       "<style scoped>\n",
       "    .dataframe tbody tr th:only-of-type {\n",
       "        vertical-align: middle;\n",
       "    }\n",
       "\n",
       "    .dataframe tbody tr th {\n",
       "        vertical-align: top;\n",
       "    }\n",
       "\n",
       "    .dataframe thead th {\n",
       "        text-align: right;\n",
       "    }\n",
       "</style>\n",
       "<table border=\"1\" class=\"dataframe\">\n",
       "  <thead>\n",
       "    <tr style=\"text-align: right;\">\n",
       "      <th></th>\n",
       "      <th>Date</th>\n",
       "      <th>Rate</th>\n",
       "    </tr>\n",
       "  </thead>\n",
       "  <tbody>\n",
       "    <tr>\n",
       "      <th>5997</th>\n",
       "      <td>2021-12-29</td>\n",
       "      <td>-0.493</td>\n",
       "    </tr>\n",
       "    <tr>\n",
       "      <th>5996</th>\n",
       "      <td>2021-12-28</td>\n",
       "      <td>-0.490</td>\n",
       "    </tr>\n",
       "    <tr>\n",
       "      <th>5995</th>\n",
       "      <td>2021-12-27</td>\n",
       "      <td>-0.491</td>\n",
       "    </tr>\n",
       "    <tr>\n",
       "      <th>5994</th>\n",
       "      <td>2021-12-24</td>\n",
       "      <td>-0.495</td>\n",
       "    </tr>\n",
       "    <tr>\n",
       "      <th>5993</th>\n",
       "      <td>2021-12-23</td>\n",
       "      <td>-0.491</td>\n",
       "    </tr>\n",
       "  </tbody>\n",
       "</table>\n",
       "</div>"
      ],
      "text/plain": [
       "            Date   Rate\n",
       "5997  2021-12-29 -0.493\n",
       "5996  2021-12-28 -0.490\n",
       "5995  2021-12-27 -0.491\n",
       "5994  2021-12-24 -0.495\n",
       "5993  2021-12-23 -0.491"
      ]
     },
     "execution_count": 44,
     "metadata": {},
     "output_type": "execute_result"
    }
   ],
   "source": [
    "df.head()"
   ]
  },
  {
   "cell_type": "code",
   "execution_count": 45,
   "metadata": {},
   "outputs": [],
   "source": [
    "file_path = \"eonia_data/STR.csv\"\n",
    "df_2 = pd.read_csv(file_path, sep=';', skiprows=1)\n",
    "df_2 = df_2[['Date', 'Last(QEUROSTR=)']]\n",
    "df_2.rename(columns={'Last(QEUROSTR=)': 'Rate'}, inplace=True)\n",
    "df_2.columns = ['Date', 'Rate']\n",
    "df_2['Date'] = pd.to_datetime(df_2['Date'], format='%d.%m.%Y', errors='coerce')\n",
    "df_2['Rate'] = df_2['Rate'].apply(lambda x: str(x).replace(',', '.') if isinstance(x, str) else x)\n",
    "df_2['Rate'] = pd.to_numeric(df_2['Rate'], errors='coerce')\n",
    "df_2['Date'] = df_2['Date'].dt.strftime('%Y-%m-%d')"
   ]
  },
  {
   "cell_type": "code",
   "execution_count": 46,
   "metadata": {},
   "outputs": [
    {
     "data": {
      "text/html": [
       "<div>\n",
       "<style scoped>\n",
       "    .dataframe tbody tr th:only-of-type {\n",
       "        vertical-align: middle;\n",
       "    }\n",
       "\n",
       "    .dataframe tbody tr th {\n",
       "        vertical-align: top;\n",
       "    }\n",
       "\n",
       "    .dataframe thead th {\n",
       "        text-align: right;\n",
       "    }\n",
       "</style>\n",
       "<table border=\"1\" class=\"dataframe\">\n",
       "  <thead>\n",
       "    <tr style=\"text-align: right;\">\n",
       "      <th></th>\n",
       "      <th>Date</th>\n",
       "      <th>Rate</th>\n",
       "    </tr>\n",
       "  </thead>\n",
       "  <tbody>\n",
       "    <tr>\n",
       "      <th>0</th>\n",
       "      <td>2024-11-14</td>\n",
       "      <td>3.165</td>\n",
       "    </tr>\n",
       "    <tr>\n",
       "      <th>1</th>\n",
       "      <td>2024-11-13</td>\n",
       "      <td>3.164</td>\n",
       "    </tr>\n",
       "    <tr>\n",
       "      <th>2</th>\n",
       "      <td>2024-11-12</td>\n",
       "      <td>3.163</td>\n",
       "    </tr>\n",
       "    <tr>\n",
       "      <th>3</th>\n",
       "      <td>2024-11-11</td>\n",
       "      <td>3.162</td>\n",
       "    </tr>\n",
       "    <tr>\n",
       "      <th>4</th>\n",
       "      <td>2024-11-08</td>\n",
       "      <td>3.163</td>\n",
       "    </tr>\n",
       "    <tr>\n",
       "      <th>...</th>\n",
       "      <td>...</td>\n",
       "      <td>...</td>\n",
       "    </tr>\n",
       "    <tr>\n",
       "      <th>1311</th>\n",
       "      <td>2019-10-07</td>\n",
       "      <td>-0.554</td>\n",
       "    </tr>\n",
       "    <tr>\n",
       "      <th>1312</th>\n",
       "      <td>2019-10-04</td>\n",
       "      <td>-0.553</td>\n",
       "    </tr>\n",
       "    <tr>\n",
       "      <th>1313</th>\n",
       "      <td>2019-10-03</td>\n",
       "      <td>-0.555</td>\n",
       "    </tr>\n",
       "    <tr>\n",
       "      <th>1314</th>\n",
       "      <td>2019-10-02</td>\n",
       "      <td>-0.551</td>\n",
       "    </tr>\n",
       "    <tr>\n",
       "      <th>1315</th>\n",
       "      <td>2019-10-01</td>\n",
       "      <td>-0.549</td>\n",
       "    </tr>\n",
       "  </tbody>\n",
       "</table>\n",
       "<p>1316 rows × 2 columns</p>\n",
       "</div>"
      ],
      "text/plain": [
       "            Date   Rate\n",
       "0     2024-11-14  3.165\n",
       "1     2024-11-13  3.164\n",
       "2     2024-11-12  3.163\n",
       "3     2024-11-11  3.162\n",
       "4     2024-11-08  3.163\n",
       "...          ...    ...\n",
       "1311  2019-10-07 -0.554\n",
       "1312  2019-10-04 -0.553\n",
       "1313  2019-10-03 -0.555\n",
       "1314  2019-10-02 -0.551\n",
       "1315  2019-10-01 -0.549\n",
       "\n",
       "[1316 rows x 2 columns]"
      ]
     },
     "execution_count": 46,
     "metadata": {},
     "output_type": "execute_result"
    }
   ],
   "source": [
    "df_2"
   ]
  },
  {
   "cell_type": "code",
   "execution_count": 47,
   "metadata": {},
   "outputs": [
    {
     "data": {
      "text/html": [
       "<div>\n",
       "<style scoped>\n",
       "    .dataframe tbody tr th:only-of-type {\n",
       "        vertical-align: middle;\n",
       "    }\n",
       "\n",
       "    .dataframe tbody tr th {\n",
       "        vertical-align: top;\n",
       "    }\n",
       "\n",
       "    .dataframe thead th {\n",
       "        text-align: right;\n",
       "    }\n",
       "</style>\n",
       "<table border=\"1\" class=\"dataframe\">\n",
       "  <thead>\n",
       "    <tr style=\"text-align: right;\">\n",
       "      <th></th>\n",
       "      <th>Date</th>\n",
       "      <th>Rate</th>\n",
       "    </tr>\n",
       "  </thead>\n",
       "  <tbody>\n",
       "    <tr>\n",
       "      <th>1311</th>\n",
       "      <td>2019-10-07</td>\n",
       "      <td>-0.554</td>\n",
       "    </tr>\n",
       "    <tr>\n",
       "      <th>1312</th>\n",
       "      <td>2019-10-04</td>\n",
       "      <td>-0.553</td>\n",
       "    </tr>\n",
       "    <tr>\n",
       "      <th>1313</th>\n",
       "      <td>2019-10-03</td>\n",
       "      <td>-0.555</td>\n",
       "    </tr>\n",
       "    <tr>\n",
       "      <th>1314</th>\n",
       "      <td>2019-10-02</td>\n",
       "      <td>-0.551</td>\n",
       "    </tr>\n",
       "    <tr>\n",
       "      <th>1315</th>\n",
       "      <td>2019-10-01</td>\n",
       "      <td>-0.549</td>\n",
       "    </tr>\n",
       "  </tbody>\n",
       "</table>\n",
       "</div>"
      ],
      "text/plain": [
       "            Date   Rate\n",
       "1311  2019-10-07 -0.554\n",
       "1312  2019-10-04 -0.553\n",
       "1313  2019-10-03 -0.555\n",
       "1314  2019-10-02 -0.551\n",
       "1315  2019-10-01 -0.549"
      ]
     },
     "execution_count": 47,
     "metadata": {},
     "output_type": "execute_result"
    }
   ],
   "source": [
    "df_2.tail()"
   ]
  },
  {
   "cell_type": "code",
   "execution_count": 48,
   "metadata": {},
   "outputs": [],
   "source": [
    "merged_df = pd.concat([df, df_2]).groupby('Date', as_index=False).last()\n",
    "merged_df.sort_values('Date', inplace=True)\n",
    "merged_df.reset_index(drop=True, inplace=True)"
   ]
  },
  {
   "cell_type": "code",
   "execution_count": 49,
   "metadata": {},
   "outputs": [],
   "source": [
    "# Reversing\n",
    "merged_df = merged_df.iloc[::-1]\n",
    "\n",
    "merged_df['Rate'] = merged_df['Rate'] / 100\n",
    "merged_df['Rate'] = merged_df['Rate'] / 365"
   ]
  },
  {
   "cell_type": "code",
   "execution_count": 50,
   "metadata": {},
   "outputs": [
    {
     "data": {
      "text/html": [
       "<div>\n",
       "<style scoped>\n",
       "    .dataframe tbody tr th:only-of-type {\n",
       "        vertical-align: middle;\n",
       "    }\n",
       "\n",
       "    .dataframe tbody tr th {\n",
       "        vertical-align: top;\n",
       "    }\n",
       "\n",
       "    .dataframe thead th {\n",
       "        text-align: right;\n",
       "    }\n",
       "</style>\n",
       "<table border=\"1\" class=\"dataframe\">\n",
       "  <thead>\n",
       "    <tr style=\"text-align: right;\">\n",
       "      <th></th>\n",
       "      <th>Date</th>\n",
       "      <th>Rate</th>\n",
       "    </tr>\n",
       "  </thead>\n",
       "  <tbody>\n",
       "    <tr>\n",
       "      <th>6626</th>\n",
       "      <td>2024-11-14</td>\n",
       "      <td>0.000087</td>\n",
       "    </tr>\n",
       "    <tr>\n",
       "      <th>6625</th>\n",
       "      <td>2024-11-13</td>\n",
       "      <td>0.000087</td>\n",
       "    </tr>\n",
       "    <tr>\n",
       "      <th>6624</th>\n",
       "      <td>2024-11-12</td>\n",
       "      <td>0.000087</td>\n",
       "    </tr>\n",
       "    <tr>\n",
       "      <th>6623</th>\n",
       "      <td>2024-11-11</td>\n",
       "      <td>0.000087</td>\n",
       "    </tr>\n",
       "    <tr>\n",
       "      <th>6622</th>\n",
       "      <td>2024-11-08</td>\n",
       "      <td>0.000087</td>\n",
       "    </tr>\n",
       "    <tr>\n",
       "      <th>...</th>\n",
       "      <td>...</td>\n",
       "      <td>...</td>\n",
       "    </tr>\n",
       "    <tr>\n",
       "      <th>4</th>\n",
       "      <td>1999-01-08</td>\n",
       "      <td>0.000088</td>\n",
       "    </tr>\n",
       "    <tr>\n",
       "      <th>3</th>\n",
       "      <td>1999-01-07</td>\n",
       "      <td>0.000088</td>\n",
       "    </tr>\n",
       "    <tr>\n",
       "      <th>2</th>\n",
       "      <td>1999-01-06</td>\n",
       "      <td>0.000088</td>\n",
       "    </tr>\n",
       "    <tr>\n",
       "      <th>1</th>\n",
       "      <td>1999-01-05</td>\n",
       "      <td>0.000088</td>\n",
       "    </tr>\n",
       "    <tr>\n",
       "      <th>0</th>\n",
       "      <td>1999-01-04</td>\n",
       "      <td>0.000088</td>\n",
       "    </tr>\n",
       "  </tbody>\n",
       "</table>\n",
       "<p>6627 rows × 2 columns</p>\n",
       "</div>"
      ],
      "text/plain": [
       "            Date      Rate\n",
       "6626  2024-11-14  0.000087\n",
       "6625  2024-11-13  0.000087\n",
       "6624  2024-11-12  0.000087\n",
       "6623  2024-11-11  0.000087\n",
       "6622  2024-11-08  0.000087\n",
       "...          ...       ...\n",
       "4     1999-01-08  0.000088\n",
       "3     1999-01-07  0.000088\n",
       "2     1999-01-06  0.000088\n",
       "1     1999-01-05  0.000088\n",
       "0     1999-01-04  0.000088\n",
       "\n",
       "[6627 rows x 2 columns]"
      ]
     },
     "execution_count": 50,
     "metadata": {},
     "output_type": "execute_result"
    }
   ],
   "source": [
    "merged_df"
   ]
  },
  {
   "cell_type": "code",
   "execution_count": 51,
   "metadata": {},
   "outputs": [],
   "source": [
    "output_file_path = 'final_eonia/eonia_rate.csv'\n",
    "merged_df.to_csv(output_file_path, index=False, sep=',', header=['Date', 'Rate'])"
   ]
  }
 ],
 "metadata": {
  "kernelspec": {
   "display_name": "packages",
   "language": "python",
   "name": "python3"
  },
  "language_info": {
   "codemirror_mode": {
    "name": "ipython",
    "version": 3
   },
   "file_extension": ".py",
   "mimetype": "text/x-python",
   "name": "python",
   "nbconvert_exporter": "python",
   "pygments_lexer": "ipython3",
   "version": "3.12.3"
  }
 },
 "nbformat": 4,
 "nbformat_minor": 2
}
