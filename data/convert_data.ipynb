{
 "cells": [
  {
   "cell_type": "code",
   "execution_count": 107,
   "metadata": {},
   "outputs": [],
   "source": [
    "import pandas as pd\n",
    "import glob\n",
    "import os"
   ]
  },
  {
   "cell_type": "markdown",
   "metadata": {},
   "source": [
    "# Data converter\n",
    "\n",
    "- Data comes from XL in three formats, and put into the folder excel_data.\n",
    "\n",
    "- Data can also come from csv's from csv_folder\n",
    "\n",
    "- All data is converted to the right formatting as a csv inside final_etf_data"
   ]
  },
  {
   "cell_type": "code",
   "execution_count": 108,
   "metadata": {},
   "outputs": [],
   "source": [
    "etf_files_path = 'final_etf_csv'"
   ]
  },
  {
   "cell_type": "markdown",
   "metadata": {},
   "source": [
    "## Converts all XL data to correctly format csv files"
   ]
  },
  {
   "cell_type": "code",
   "execution_count": 109,
   "metadata": {},
   "outputs": [],
   "source": [
    "excel_files_path = 'excel_data/format_'\n",
    "num_formats = 3"
   ]
  },
  {
   "cell_type": "code",
   "execution_count": 110,
   "metadata": {},
   "outputs": [],
   "source": [
    "format_1 = [\n",
    "    'GlobalPE.xlsx',\n",
    "    'STOXX600.xlsx'\n",
    "]\n",
    "\n",
    "format_2 = [\n",
    "    'FTSE EMU Government Bond (EGBI) TRI.xlsx',\n",
    "    'FTSECORP.xlsx',\n",
    "    'FTSECORPALT.xlsx',\n",
    "    'FTSEGOV.xlsx',\n",
    "    'FTWBIGUSDT.xlsx'\n",
    "    \n",
    "]\n",
    "\n",
    "format_3 = [\n",
    "    'FTSEREEL.xlsx',\n",
    "    'MSCI World.xlsx',\n",
    "    'PE.xlsx',\n",
    "    'FTSE EPRA Nareit Developed Europe.xlsx',\n",
    "    'LPX50PE.xlsx',\n",
    "    'MSCI ACWI.xlsx',\n",
    "    'MSCI EUROPE.xlsx',\n",
    "    'MSCI EMU.xlsx',\n",
    "]"
   ]
  },
  {
   "cell_type": "code",
   "execution_count": 111,
   "metadata": {},
   "outputs": [
    {
     "name": "stdout",
     "output_type": "stream",
     "text": [
      "Deleted: final_etf_csv/FTSEREEL.csv\n",
      "Deleted: final_etf_csv/LPX50PE.csv\n",
      "Deleted: final_etf_csv/GlobalPE.csv\n",
      "Deleted: final_etf_csv/MSCI World.csv\n",
      "Deleted: final_etf_csv/FTSECORP.csv\n",
      "Deleted: final_etf_csv/PE.csv\n",
      "Deleted: final_etf_csv/MSCI ACWI.csv\n",
      "Deleted: final_etf_csv/FTWBIGUSDT.csv\n",
      "Deleted: final_etf_csv/FTSE EPRA Nareit Developed Europe.csv\n",
      "Deleted: final_etf_csv/MSCI EMU.csv\n",
      "Deleted: final_etf_csv/STOXX600.csv\n",
      "Deleted: final_etf_csv/FTSECORPALT.csv\n",
      "Deleted: final_etf_csv/FTSE EMU Government Bond (EGBI) TRI.csv\n"
     ]
    }
   ],
   "source": [
    "# Deletes every csv in final_etf_csv\n",
    "files = glob.glob(os.path.join(etf_files_path, '*'))\n",
    "\n",
    "for file in files:\n",
    "    try:\n",
    "        os.remove(file)\n",
    "        print(f\"Deleted: {file}\")\n",
    "    except Exception as e:\n",
    "        print(f\"Error deleting {file}: {e}\")"
   ]
  },
  {
   "cell_type": "code",
   "execution_count": 112,
   "metadata": {},
   "outputs": [
    {
     "name": "stdout",
     "output_type": "stream",
     "text": [
      "Converted STOXX600.xlsx to CSV and saved as final_etf_csv/STOXX600.csv\n",
      "Converted GlobalPE.xlsx to CSV and saved as final_etf_csv/GlobalPE.csv\n",
      "Converted FTSECORPALT.xlsx to CSV and saved as final_etf_csv/FTSECORPALT.csv\n",
      "Converted FTWBIGUSDT.xlsx to CSV and saved as final_etf_csv/FTWBIGUSDT.csv\n",
      "Converted FTSE EMU Government Bond (EGBI) TRI.xlsx to CSV and saved as final_etf_csv/FTSE EMU Government Bond (EGBI) TRI.csv\n",
      "Converted FTSECORP.xlsx to CSV and saved as final_etf_csv/FTSECORP.csv\n",
      "Converted PE.xlsx to CSV and saved as final_etf_csv/PE.csv\n",
      "Converted FTSEREEL.xlsx to CSV and saved as final_etf_csv/FTSEREEL.csv\n",
      "Converted MSCI ACWI.xlsx to CSV and saved as final_etf_csv/MSCI ACWI.csv\n",
      "Converted LPX50PE.xlsx to CSV and saved as final_etf_csv/LPX50PE.csv\n",
      "Converted MSCI World.xlsx to CSV and saved as final_etf_csv/MSCI World.csv\n",
      "Converted FTSE EPRA Nareit Developed Europe.xlsx to CSV and saved as final_etf_csv/FTSE EPRA Nareit Developed Europe.csv\n",
      "Converted MSCI EMU.xlsx to CSV and saved as final_etf_csv/MSCI EMU.csv\n"
     ]
    }
   ],
   "source": [
    "for i in range(1, 1 + num_formats):\n",
    "    formated_files_path = excel_files_path + str(i)\n",
    "    for filename in os.listdir(formated_files_path):\n",
    "        if filename.endswith(\".xlsx\"):\n",
    "            file_path = os.path.join(formated_files_path, filename)\n",
    "\n",
    "            if filename in format_1:\n",
    "                df = pd.read_excel(file_path, header=None)\n",
    "                keyword_row_index = df[df.iloc[:, 0] == 'Exchange Date'].index[0]\n",
    "\n",
    "                df = pd.read_excel(file_path, skiprows=keyword_row_index)\n",
    "                df = df[['Exchange Date', 'Close']]\n",
    "                df.dropna(subset=['Exchange Date', 'Close'], inplace=True)\n",
    "                df.rename(columns={'Exchange Date' : 'Date', 'Close': 'Price'}, inplace=True)\n",
    "\n",
    "            elif filename in format_2:\n",
    "                df = pd.read_excel(file_path, skiprows=10)  \n",
    "                df = df[['Date', 'Trade Price']]\n",
    "                df.dropna(subset=['Date', 'Trade Price'], inplace=True)\n",
    "                df.rename(columns={'Trade Price': 'Price'}, inplace=True)\n",
    "\n",
    "            elif filename in format_3:\n",
    "                df = pd.read_excel(file_path, skiprows=17)\n",
    "                df = df[['Exchange Date', 'Close']]\n",
    "                df.dropna(subset=['Exchange Date', 'Close'], inplace=True)\n",
    "                df.rename(columns={'Exchange Date' : 'Date', 'Close': 'Price'}, inplace=True)\n",
    "            \n",
    "            else:\n",
    "                continue\n",
    "            \n",
    "            csv_file_path = os.path.join(etf_files_path, f\"{os.path.splitext(filename)[0]}.csv\")\n",
    "            \n",
    "            # Save to CSV\n",
    "            df.to_csv(csv_file_path, index=False)\n",
    "            \n",
    "            print(f\"Converted {filename} to CSV and saved as {csv_file_path}\")"
   ]
  },
  {
   "cell_type": "markdown",
   "metadata": {},
   "source": [
    "## Converts imported CSVs into correct format in the right folder"
   ]
  },
  {
   "cell_type": "code",
   "execution_count": 113,
   "metadata": {},
   "outputs": [],
   "source": [
    "csv_file_path = 'csv_data'"
   ]
  },
  {
   "cell_type": "code",
   "execution_count": null,
   "metadata": {},
   "outputs": [],
   "source": [
    "csv_files = [\n",
    "    #'ICE BofA EBL0 (Euro Large Cap Corporate).csv',\n",
    "    'ICE BofA ER00 (Euro Corporate).csv',\n",
    "    'ICE BofA G0BC (Corporate World).csv',\n",
    "    'ICE BofA HE00 (Euro HY).csv',\n",
    "    'ICE BofA HW00 (Global HY).csv',\n",
    "    #'MSCI World Index.csv',\n",
    "]"
   ]
  },
  {
   "cell_type": "code",
   "execution_count": 115,
   "metadata": {},
   "outputs": [
    {
     "ename": "EmptyDataError",
     "evalue": "No columns to parse from file",
     "output_type": "error",
     "traceback": [
      "\u001b[0;31m---------------------------------------------------------------------------\u001b[0m",
      "\u001b[0;31mEmptyDataError\u001b[0m                            Traceback (most recent call last)",
      "Cell \u001b[0;32mIn[115], line 12\u001b[0m\n\u001b[1;32m     10\u001b[0m     df \u001b[38;5;241m=\u001b[39m pd\u001b[38;5;241m.\u001b[39mread_csv(file_path, sep\u001b[38;5;241m=\u001b[39msep, skiprows\u001b[38;5;241m=\u001b[39m\u001b[38;5;241m1\u001b[39m)\n\u001b[1;32m     11\u001b[0m \u001b[38;5;28;01melse\u001b[39;00m:\n\u001b[0;32m---> 12\u001b[0m     df \u001b[38;5;241m=\u001b[39m \u001b[43mpd\u001b[49m\u001b[38;5;241;43m.\u001b[39;49m\u001b[43mread_csv\u001b[49m\u001b[43m(\u001b[49m\u001b[43mfile_path\u001b[49m\u001b[43m,\u001b[49m\u001b[43m \u001b[49m\u001b[43msep\u001b[49m\u001b[38;5;241;43m=\u001b[39;49m\u001b[38;5;124;43m'\u001b[39;49m\u001b[38;5;124;43m;\u001b[39;49m\u001b[38;5;124;43m'\u001b[39;49m\u001b[43m)\u001b[49m\n\u001b[1;32m     14\u001b[0m \u001b[38;5;66;03m# Process Format 1: [\"Date\"; \"Line(Q.MERER00)\"]\u001b[39;00m\n\u001b[1;32m     15\u001b[0m \u001b[38;5;28;01mif\u001b[39;00m df\u001b[38;5;241m.\u001b[39mcolumns[\u001b[38;5;241m0\u001b[39m] \u001b[38;5;241m==\u001b[39m \u001b[38;5;124m'\u001b[39m\u001b[38;5;124mDate\u001b[39m\u001b[38;5;124m'\u001b[39m \u001b[38;5;129;01mand\u001b[39;00m \u001b[38;5;28mlen\u001b[39m(df\u001b[38;5;241m.\u001b[39mcolumns) \u001b[38;5;241m==\u001b[39m \u001b[38;5;241m2\u001b[39m:\n",
      "File \u001b[0;32m~/opt/anaconda3/envs/myenv/lib/python3.9/site-packages/pandas/io/parsers/readers.py:1026\u001b[0m, in \u001b[0;36mread_csv\u001b[0;34m(filepath_or_buffer, sep, delimiter, header, names, index_col, usecols, dtype, engine, converters, true_values, false_values, skipinitialspace, skiprows, skipfooter, nrows, na_values, keep_default_na, na_filter, verbose, skip_blank_lines, parse_dates, infer_datetime_format, keep_date_col, date_parser, date_format, dayfirst, cache_dates, iterator, chunksize, compression, thousands, decimal, lineterminator, quotechar, quoting, doublequote, escapechar, comment, encoding, encoding_errors, dialect, on_bad_lines, delim_whitespace, low_memory, memory_map, float_precision, storage_options, dtype_backend)\u001b[0m\n\u001b[1;32m   1013\u001b[0m kwds_defaults \u001b[38;5;241m=\u001b[39m _refine_defaults_read(\n\u001b[1;32m   1014\u001b[0m     dialect,\n\u001b[1;32m   1015\u001b[0m     delimiter,\n\u001b[0;32m   (...)\u001b[0m\n\u001b[1;32m   1022\u001b[0m     dtype_backend\u001b[38;5;241m=\u001b[39mdtype_backend,\n\u001b[1;32m   1023\u001b[0m )\n\u001b[1;32m   1024\u001b[0m kwds\u001b[38;5;241m.\u001b[39mupdate(kwds_defaults)\n\u001b[0;32m-> 1026\u001b[0m \u001b[38;5;28;01mreturn\u001b[39;00m \u001b[43m_read\u001b[49m\u001b[43m(\u001b[49m\u001b[43mfilepath_or_buffer\u001b[49m\u001b[43m,\u001b[49m\u001b[43m \u001b[49m\u001b[43mkwds\u001b[49m\u001b[43m)\u001b[49m\n",
      "File \u001b[0;32m~/opt/anaconda3/envs/myenv/lib/python3.9/site-packages/pandas/io/parsers/readers.py:620\u001b[0m, in \u001b[0;36m_read\u001b[0;34m(filepath_or_buffer, kwds)\u001b[0m\n\u001b[1;32m    617\u001b[0m _validate_names(kwds\u001b[38;5;241m.\u001b[39mget(\u001b[38;5;124m\"\u001b[39m\u001b[38;5;124mnames\u001b[39m\u001b[38;5;124m\"\u001b[39m, \u001b[38;5;28;01mNone\u001b[39;00m))\n\u001b[1;32m    619\u001b[0m \u001b[38;5;66;03m# Create the parser.\u001b[39;00m\n\u001b[0;32m--> 620\u001b[0m parser \u001b[38;5;241m=\u001b[39m \u001b[43mTextFileReader\u001b[49m\u001b[43m(\u001b[49m\u001b[43mfilepath_or_buffer\u001b[49m\u001b[43m,\u001b[49m\u001b[43m \u001b[49m\u001b[38;5;241;43m*\u001b[39;49m\u001b[38;5;241;43m*\u001b[39;49m\u001b[43mkwds\u001b[49m\u001b[43m)\u001b[49m\n\u001b[1;32m    622\u001b[0m \u001b[38;5;28;01mif\u001b[39;00m chunksize \u001b[38;5;129;01mor\u001b[39;00m iterator:\n\u001b[1;32m    623\u001b[0m     \u001b[38;5;28;01mreturn\u001b[39;00m parser\n",
      "File \u001b[0;32m~/opt/anaconda3/envs/myenv/lib/python3.9/site-packages/pandas/io/parsers/readers.py:1620\u001b[0m, in \u001b[0;36mTextFileReader.__init__\u001b[0;34m(self, f, engine, **kwds)\u001b[0m\n\u001b[1;32m   1617\u001b[0m     \u001b[38;5;28mself\u001b[39m\u001b[38;5;241m.\u001b[39moptions[\u001b[38;5;124m\"\u001b[39m\u001b[38;5;124mhas_index_names\u001b[39m\u001b[38;5;124m\"\u001b[39m] \u001b[38;5;241m=\u001b[39m kwds[\u001b[38;5;124m\"\u001b[39m\u001b[38;5;124mhas_index_names\u001b[39m\u001b[38;5;124m\"\u001b[39m]\n\u001b[1;32m   1619\u001b[0m \u001b[38;5;28mself\u001b[39m\u001b[38;5;241m.\u001b[39mhandles: IOHandles \u001b[38;5;241m|\u001b[39m \u001b[38;5;28;01mNone\u001b[39;00m \u001b[38;5;241m=\u001b[39m \u001b[38;5;28;01mNone\u001b[39;00m\n\u001b[0;32m-> 1620\u001b[0m \u001b[38;5;28mself\u001b[39m\u001b[38;5;241m.\u001b[39m_engine \u001b[38;5;241m=\u001b[39m \u001b[38;5;28;43mself\u001b[39;49m\u001b[38;5;241;43m.\u001b[39;49m\u001b[43m_make_engine\u001b[49m\u001b[43m(\u001b[49m\u001b[43mf\u001b[49m\u001b[43m,\u001b[49m\u001b[43m \u001b[49m\u001b[38;5;28;43mself\u001b[39;49m\u001b[38;5;241;43m.\u001b[39;49m\u001b[43mengine\u001b[49m\u001b[43m)\u001b[49m\n",
      "File \u001b[0;32m~/opt/anaconda3/envs/myenv/lib/python3.9/site-packages/pandas/io/parsers/readers.py:1898\u001b[0m, in \u001b[0;36mTextFileReader._make_engine\u001b[0;34m(self, f, engine)\u001b[0m\n\u001b[1;32m   1895\u001b[0m     \u001b[38;5;28;01mraise\u001b[39;00m \u001b[38;5;167;01mValueError\u001b[39;00m(msg)\n\u001b[1;32m   1897\u001b[0m \u001b[38;5;28;01mtry\u001b[39;00m:\n\u001b[0;32m-> 1898\u001b[0m     \u001b[38;5;28;01mreturn\u001b[39;00m \u001b[43mmapping\u001b[49m\u001b[43m[\u001b[49m\u001b[43mengine\u001b[49m\u001b[43m]\u001b[49m\u001b[43m(\u001b[49m\u001b[43mf\u001b[49m\u001b[43m,\u001b[49m\u001b[43m \u001b[49m\u001b[38;5;241;43m*\u001b[39;49m\u001b[38;5;241;43m*\u001b[39;49m\u001b[38;5;28;43mself\u001b[39;49m\u001b[38;5;241;43m.\u001b[39;49m\u001b[43moptions\u001b[49m\u001b[43m)\u001b[49m\n\u001b[1;32m   1899\u001b[0m \u001b[38;5;28;01mexcept\u001b[39;00m \u001b[38;5;167;01mException\u001b[39;00m:\n\u001b[1;32m   1900\u001b[0m     \u001b[38;5;28;01mif\u001b[39;00m \u001b[38;5;28mself\u001b[39m\u001b[38;5;241m.\u001b[39mhandles \u001b[38;5;129;01mis\u001b[39;00m \u001b[38;5;129;01mnot\u001b[39;00m \u001b[38;5;28;01mNone\u001b[39;00m:\n",
      "File \u001b[0;32m~/opt/anaconda3/envs/myenv/lib/python3.9/site-packages/pandas/io/parsers/c_parser_wrapper.py:93\u001b[0m, in \u001b[0;36mCParserWrapper.__init__\u001b[0;34m(self, src, **kwds)\u001b[0m\n\u001b[1;32m     90\u001b[0m \u001b[38;5;28;01mif\u001b[39;00m kwds[\u001b[38;5;124m\"\u001b[39m\u001b[38;5;124mdtype_backend\u001b[39m\u001b[38;5;124m\"\u001b[39m] \u001b[38;5;241m==\u001b[39m \u001b[38;5;124m\"\u001b[39m\u001b[38;5;124mpyarrow\u001b[39m\u001b[38;5;124m\"\u001b[39m:\n\u001b[1;32m     91\u001b[0m     \u001b[38;5;66;03m# Fail here loudly instead of in cython after reading\u001b[39;00m\n\u001b[1;32m     92\u001b[0m     import_optional_dependency(\u001b[38;5;124m\"\u001b[39m\u001b[38;5;124mpyarrow\u001b[39m\u001b[38;5;124m\"\u001b[39m)\n\u001b[0;32m---> 93\u001b[0m \u001b[38;5;28mself\u001b[39m\u001b[38;5;241m.\u001b[39m_reader \u001b[38;5;241m=\u001b[39m \u001b[43mparsers\u001b[49m\u001b[38;5;241;43m.\u001b[39;49m\u001b[43mTextReader\u001b[49m\u001b[43m(\u001b[49m\u001b[43msrc\u001b[49m\u001b[43m,\u001b[49m\u001b[43m \u001b[49m\u001b[38;5;241;43m*\u001b[39;49m\u001b[38;5;241;43m*\u001b[39;49m\u001b[43mkwds\u001b[49m\u001b[43m)\u001b[49m\n\u001b[1;32m     95\u001b[0m \u001b[38;5;28mself\u001b[39m\u001b[38;5;241m.\u001b[39munnamed_cols \u001b[38;5;241m=\u001b[39m \u001b[38;5;28mself\u001b[39m\u001b[38;5;241m.\u001b[39m_reader\u001b[38;5;241m.\u001b[39munnamed_cols\n\u001b[1;32m     97\u001b[0m \u001b[38;5;66;03m# error: Cannot determine type of 'names'\u001b[39;00m\n",
      "File \u001b[0;32mparsers.pyx:581\u001b[0m, in \u001b[0;36mpandas._libs.parsers.TextReader.__cinit__\u001b[0;34m()\u001b[0m\n",
      "\u001b[0;31mEmptyDataError\u001b[0m: No columns to parse from file"
     ]
    }
   ],
   "source": [
    "for file in os.listdir(csv_file_path):\n",
    "    if file.endswith('.csv'):\n",
    "        file_path = os.path.join(csv_file_path, file)\n",
    "        \n",
    "        with open(file_path, 'r', encoding='utf-8') as f:\n",
    "            first_line = f.readline().strip()\n",
    "        \n",
    "        if first_line.startswith(\"sep=\"):\n",
    "            sep = first_line.split('=')[1]\n",
    "            df = pd.read_csv(file_path, sep=sep, skiprows=1)\n",
    "        else:\n",
    "            df = pd.read_csv(file_path, sep=';')\n",
    "\n",
    "        # Process Format 1: [\"Date\"; \"Line(Q.MERER00)\"]\n",
    "        if df.columns[0] == 'Date' and len(df.columns) == 2:\n",
    "            df.columns = ['Date', 'Price']\n",
    "            df['Date'] = pd.to_datetime(df['Date'], format='%d.%m.%Y', errors='coerce')\n",
    "            \n",
    "            df['Price'] = df['Price'].apply(lambda x: str(x).replace(',', '.') if isinstance(x, str) else x)\n",
    "            df['Price'] = pd.to_numeric(df['Price'], errors='coerce')\n",
    "\n",
    "        # Process Format 2: [\"Date;Open;High;Low;Last;Volume;Status\"]\n",
    "        elif 'Date' in df.columns and 'Last' in df.columns:\n",
    "            df = df[['Date', 'Open']]\n",
    "            df.rename(columns={'Open': 'Price'}, inplace=True)\n",
    "            df.columns = ['Date', 'Price']\n",
    "            df['Date'] = pd.to_datetime(df['Date'], format='%d.%m.%Y', errors='coerce')\n",
    "            \n",
    "            df['Price'] = df['Price'].apply(lambda x: str(x).replace(',', '.') if isinstance(x, str) else x)\n",
    "            df['Price'] = pd.to_numeric(df['Price'], errors='coerce')\n",
    "\n",
    "        else:\n",
    "            print(f\"Skipping unrecognized format in file: {file}\")\n",
    "            continue\n",
    "\n",
    "        df['Date'] = df['Date'].dt.strftime('%Y-%m-%d')\n",
    "\n",
    "        output_file_path = os.path.join(etf_files_path, file)\n",
    "        df.to_csv(output_file_path, index=False, sep=',', header=['Date', 'Price'])\n",
    "        print(f\"Processed and saved: {output_file_path}\")"
   ]
  }
 ],
 "metadata": {
  "kernelspec": {
   "display_name": "myenv",
   "language": "python",
   "name": "myenv"
  },
  "language_info": {
   "codemirror_mode": {
    "name": "ipython",
    "version": 3
   },
   "file_extension": ".py",
   "mimetype": "text/x-python",
   "name": "python",
   "nbconvert_exporter": "python",
   "pygments_lexer": "ipython3",
   "version": "3.9.18"
  }
 },
 "nbformat": 4,
 "nbformat_minor": 2
}
