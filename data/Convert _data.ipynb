{
 "cells": [
  {
   "cell_type": "code",
   "execution_count": 110,
   "metadata": {},
   "outputs": [],
   "source": [
    "import pandas as pd\n",
    "import glob\n",
    "import os"
   ]
  },
  {
   "cell_type": "markdown",
   "metadata": {},
   "source": [
    "# Data converter\n",
    "\n",
    "- Data comes from XL in three formats, and put into the folder excel_data.\n",
    "\n",
    "- Data can also come from csv's from csv_folder\n",
    "\n",
    "- All data is converted to the right formatting as a csv inside final_etf_data"
   ]
  },
  {
   "cell_type": "code",
   "execution_count": 111,
   "metadata": {},
   "outputs": [],
   "source": [
    "etf_files_path = 'final_etf_csv'"
   ]
  },
  {
   "cell_type": "markdown",
   "metadata": {},
   "source": [
    "## Converts all XL data to correctly format csv files"
   ]
  },
  {
   "cell_type": "code",
   "execution_count": 112,
   "metadata": {},
   "outputs": [],
   "source": [
    "excel_files_path = 'excel_data/format_'\n",
    "num_formats = 3"
   ]
  },
  {
   "cell_type": "code",
   "execution_count": 113,
   "metadata": {},
   "outputs": [],
   "source": [
    "format_1 = [\n",
    "    'GlobalPE.xlsx',\n",
    "    'STOXX600.xlsx'\n",
    "]\n",
    "\n",
    "format_2 = [\n",
    "    'FTSECORP.xlsx',\n",
    "    'FTSECORPALT.xlsx',\n",
    "    'FTSEGOV.xlsx',\n",
    "    'FTWBIGUSDT.xlsx'\n",
    "]\n",
    "\n",
    "format_3 = [\n",
    "    'FTSEREEL.xlsx',\n",
    "    'MSCI.xlsx',\n",
    "    'PE.xlsx',\n",
    "    'FTSE EPRA.xlsx',\n",
    "    'LPX50PE.xlsx',\n",
    "    'MSCI ACWI.xlsx',\n",
    "    'MSCI EUROPE.xlsx',\n",
    "    'MSCI EMU.xlsx',\n",
    "]"
   ]
  },
  {
   "cell_type": "code",
   "execution_count": 114,
   "metadata": {},
   "outputs": [
    {
     "name": "stdout",
     "output_type": "stream",
     "text": [
      "Deleted: final_etf_csv/MSCI.csv\n",
      "Deleted: final_etf_csv/FTSEREEL.csv\n",
      "Deleted: final_etf_csv/LPX50PE.csv\n",
      "Deleted: final_etf_csv/GlobalPE.csv\n",
      "Deleted: final_etf_csv/FTSECORP.csv\n",
      "Deleted: final_etf_csv/ICE BofA G0BC.csv\n",
      "Deleted: final_etf_csv/ICE BofA EBL0.csv\n",
      "Deleted: final_etf_csv/PE.csv\n",
      "Deleted: final_etf_csv/ICE BofA HW00.csv\n",
      "Deleted: final_etf_csv/FTSEGOV.csv\n",
      "Deleted: final_etf_csv/MSCI ACWI.csv\n",
      "Deleted: final_etf_csv/FTWBIGUSDT.csv\n",
      "Deleted: final_etf_csv/ICE BofA MERHE00.csv\n",
      "Deleted: final_etf_csv/ICE BofA ER00.csv\n",
      "Deleted: final_etf_csv/MSCI EMU.csv\n",
      "Deleted: final_etf_csv/STOXX600.csv\n",
      "Deleted: final_etf_csv/FTSECORPALT.csv\n"
     ]
    }
   ],
   "source": [
    "# Deletes every csv in final_etf_csv\n",
    "files = glob.glob(os.path.join(etf_files_path, '*'))\n",
    "\n",
    "for file in files:\n",
    "    try:\n",
    "        os.remove(file)\n",
    "        print(f\"Deleted: {file}\")\n",
    "    except Exception as e:\n",
    "        print(f\"Error deleting {file}: {e}\")"
   ]
  },
  {
   "cell_type": "code",
   "execution_count": 115,
   "metadata": {},
   "outputs": [
    {
     "name": "stdout",
     "output_type": "stream",
     "text": [
      "Converted STOXX600.xlsx to CSV and saved as final_etf_csv/STOXX600.csv\n",
      "Converted GlobalPE.xlsx to CSV and saved as final_etf_csv/GlobalPE.csv\n",
      "Converted FTSECORPALT.xlsx to CSV and saved as final_etf_csv/FTSECORPALT.csv\n",
      "Converted FTWBIGUSDT.xlsx to CSV and saved as final_etf_csv/FTWBIGUSDT.csv\n",
      "Converted FTSECORP.xlsx to CSV and saved as final_etf_csv/FTSECORP.csv\n",
      "Converted FTSEGOV.xlsx to CSV and saved as final_etf_csv/FTSEGOV.csv\n",
      "Converted PE.xlsx to CSV and saved as final_etf_csv/PE.csv\n",
      "Converted MSCI.xlsx to CSV and saved as final_etf_csv/MSCI.csv\n",
      "Converted FTSE EPRA.xlsx to CSV and saved as final_etf_csv/FTSE EPRA.csv\n",
      "Converted FTSEREEL.xlsx to CSV and saved as final_etf_csv/FTSEREEL.csv\n",
      "Converted MSCI ACWI.xlsx to CSV and saved as final_etf_csv/MSCI ACWI.csv\n",
      "Converted LPX50PE.xlsx to CSV and saved as final_etf_csv/LPX50PE.csv\n",
      "Converted MSCI EMU.xlsx to CSV and saved as final_etf_csv/MSCI EMU.csv\n"
     ]
    }
   ],
   "source": [
    "for i in range(1, 1 + num_formats):\n",
    "    formated_files_path = excel_files_path + str(i)\n",
    "    for filename in os.listdir(formated_files_path):\n",
    "        if filename.endswith(\".xlsx\"):\n",
    "            file_path = os.path.join(formated_files_path, filename)\n",
    "\n",
    "            if filename in format_1:\n",
    "                df = pd.read_excel(file_path, header=None)\n",
    "                keyword_row_index = df[df.iloc[:, 0] == 'Exchange Date'].index[0]\n",
    "\n",
    "                df = pd.read_excel(file_path, skiprows=keyword_row_index)\n",
    "                df = df[['Exchange Date', 'Close']]\n",
    "                df.dropna(subset=['Exchange Date', 'Close'], inplace=True)\n",
    "                df.rename(columns={'Exchange Date' : 'Date', 'Close': 'Price'}, inplace=True)\n",
    "\n",
    "            elif filename in format_2:\n",
    "                df = pd.read_excel(file_path, skiprows=10)  \n",
    "                df = df[['Date', 'Trade Price']]\n",
    "                df.dropna(subset=['Date', 'Trade Price'], inplace=True)\n",
    "                df.rename(columns={'Trade Price': 'Price'}, inplace=True)\n",
    "\n",
    "            elif filename in format_3:\n",
    "                df = pd.read_excel(file_path, skiprows=17)\n",
    "                df = df[['Exchange Date', 'Close']]\n",
    "                df.dropna(subset=['Exchange Date', 'Close'], inplace=True)\n",
    "                df.rename(columns={'Exchange Date' : 'Date', 'Close': 'Price'}, inplace=True)\n",
    "            \n",
    "            else:\n",
    "                continue\n",
    "            \n",
    "            csv_file_path = os.path.join(etf_files_path, f\"{os.path.splitext(filename)[0]}.csv\")\n",
    "            \n",
    "            # Save to CSV\n",
    "            df.to_csv(csv_file_path, index=False)\n",
    "            \n",
    "            print(f\"Converted {filename} to CSV and saved as {csv_file_path}\")"
   ]
  },
  {
   "cell_type": "markdown",
   "metadata": {},
   "source": [
    "## Converts imported CSVs into correct format in the right folder"
   ]
  },
  {
   "cell_type": "code",
   "execution_count": 116,
   "metadata": {},
   "outputs": [],
   "source": [
    "csv_file_path = 'csv_data'"
   ]
  },
  {
   "cell_type": "code",
   "execution_count": 117,
   "metadata": {},
   "outputs": [],
   "source": [
    "csv_files = [\n",
    "    'ICE BofA EBL0.csv',\n",
    "    'ICE BofA ER00.csv',\n",
    "    'ICE BofA G0BC.csv',\n",
    "    'ICE BofA HW00.csv',\n",
    "    'ICE BofA MERHE00.csv'\n",
    "]"
   ]
  },
  {
   "cell_type": "code",
   "execution_count": 118,
   "metadata": {},
   "outputs": [
    {
     "name": "stdout",
     "output_type": "stream",
     "text": [
      "Processed and saved: final_etf_csv/ICE BofA G0BC.csv\n",
      "Processed and saved: final_etf_csv/ICE BofA EBL0.csv\n",
      "Processed and saved: final_etf_csv/ICE BofA HW00.csv\n",
      "Processed and saved: final_etf_csv/ICE BofA MERHE00.csv\n",
      "Processed and saved: final_etf_csv/ICE BofA ER00.csv\n"
     ]
    }
   ],
   "source": [
    "for file in os.listdir(csv_file_path):\n",
    "    if file.endswith('.csv'):\n",
    "        file_path = os.path.join(csv_file_path, file)\n",
    "        \n",
    "        with open(file_path, 'r', encoding='utf-8') as f:\n",
    "            first_line = f.readline().strip()\n",
    "        \n",
    "        if first_line.startswith(\"sep=\"):\n",
    "            sep = first_line.split('=')[1]\n",
    "            df = pd.read_csv(file_path, sep=sep, skiprows=1)\n",
    "        else:\n",
    "            df = pd.read_csv(file_path, sep=';')\n",
    "\n",
    "        # Process Format 1: [\"Date\"; \"Line(Q.MERER00)\"]\n",
    "        if df.columns[0] == 'Date' and len(df.columns) == 2:\n",
    "            df.columns = ['Date', 'Price']\n",
    "            df['Date'] = pd.to_datetime(df['Date'], format='%d.%m.%Y', errors='coerce')\n",
    "            \n",
    "            df['Price'] = df['Price'].apply(lambda x: str(x).replace(',', '.') if isinstance(x, str) else x)\n",
    "            df['Price'] = pd.to_numeric(df['Price'], errors='coerce')\n",
    "\n",
    "        # Process Format 2: [\"Date;Open;High;Low;Last;Volume;Status\"]\n",
    "        elif 'Date' in df.columns and 'Last' in df.columns:\n",
    "            df = df[['Date', 'Open']]\n",
    "            df.rename(columns={'Open': 'Price'}, inplace=True)\n",
    "            df.columns = ['Date', 'Price']\n",
    "            df['Date'] = pd.to_datetime(df['Date'], format='%d.%m.%Y', errors='coerce')\n",
    "            \n",
    "            df['Price'] = df['Price'].apply(lambda x: str(x).replace(',', '.') if isinstance(x, str) else x)\n",
    "            df['Price'] = pd.to_numeric(df['Price'], errors='coerce')\n",
    "\n",
    "        else:\n",
    "            print(f\"Skipping unrecognized format in file: {file}\")\n",
    "            continue\n",
    "\n",
    "        df['Date'] = df['Date'].dt.strftime('%Y-%m-%d')\n",
    "\n",
    "        output_file_path = os.path.join(etf_files_path, file)\n",
    "        df.to_csv(output_file_path, index=False, sep=',', header=['Date', 'Price'])\n",
    "        print(f\"Processed and saved: {output_file_path}\")"
   ]
  }
 ],
 "metadata": {
  "kernelspec": {
   "display_name": "packages",
   "language": "python",
   "name": "python3"
  },
  "language_info": {
   "codemirror_mode": {
    "name": "ipython",
    "version": 3
   },
   "file_extension": ".py",
   "mimetype": "text/x-python",
   "name": "python",
   "nbconvert_exporter": "python",
   "pygments_lexer": "ipython3",
   "version": "3.10.2"
  }
 },
 "nbformat": 4,
 "nbformat_minor": 2
}
