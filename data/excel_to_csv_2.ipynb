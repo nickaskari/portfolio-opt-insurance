{
 "cells": [
  {
   "cell_type": "code",
   "execution_count": 42,
   "metadata": {},
   "outputs": [],
   "source": [
    "import pandas as pd\n",
    "import glob\n",
    "import os"
   ]
  },
  {
   "cell_type": "code",
   "execution_count": 43,
   "metadata": {},
   "outputs": [],
   "source": [
    "excel_files_path = 'excel_data/format_2'\n",
    "etf_files_path = 'final_etf_csv'"
   ]
  },
  {
   "cell_type": "code",
   "execution_count": 44,
   "metadata": {},
   "outputs": [],
   "source": [
    "format_1 = [\n",
    "    'FTSECORP.xlsx',\n",
    "    'FTSECORPALT.xlsx',\n",
    "    'FTSEGOV.xlsx',\n",
    "    'FTWBIGUSDT.xlsx'\n",
    "]\n",
    "\n",
    "format_2 = [\n",
    "    'FTSEREEL.xlsx',\n",
    "    'MSCI.xlsx',\n",
    "    'PE.xlsx'\n",
    "]"
   ]
  },
  {
   "cell_type": "code",
   "execution_count": 45,
   "metadata": {},
   "outputs": [
    {
     "name": "stdout",
     "output_type": "stream",
     "text": [
      "Deleted: final_etf_csv/MSCI.csv\n",
      "Deleted: final_etf_csv/FTSEREEL.csv\n",
      "Deleted: final_etf_csv/FTSECORP.csv\n",
      "Deleted: final_etf_csv/PE.csv\n",
      "Deleted: final_etf_csv/FTSEGOV.csv\n",
      "Deleted: final_etf_csv/FTWBIGUSDT.csv\n",
      "Deleted: final_etf_csv/FTSECORPALT.csv\n"
     ]
    }
   ],
   "source": [
    "# Deletes every csv in final_etf_csv\n",
    "files = glob.glob(os.path.join(etf_files_path, '*'))\n",
    "\n",
    "for file in files:\n",
    "    try:\n",
    "        os.remove(file)\n",
    "        print(f\"Deleted: {file}\")\n",
    "    except Exception as e:\n",
    "        print(f\"Error deleting {file}: {e}\")"
   ]
  },
  {
   "cell_type": "code",
   "execution_count": 46,
   "metadata": {},
   "outputs": [
    {
     "name": "stdout",
     "output_type": "stream",
     "text": [
      "Converted PE.xlsx to CSV and saved as final_etf_csv/PE.csv\n",
      "Converted MSCI.xlsx to CSV and saved as final_etf_csv/MSCI.csv\n",
      "Converted FTSEREEL.xlsx to CSV and saved as final_etf_csv/FTSEREEL.csv\n",
      "Converted FTSECORPALT.xlsx to CSV and saved as final_etf_csv/FTSECORPALT.csv\n",
      "Converted FTWBIGUSDT.xlsx to CSV and saved as final_etf_csv/FTWBIGUSDT.csv\n",
      "Converted FTSECORP.xlsx to CSV and saved as final_etf_csv/FTSECORP.csv\n",
      "Converted FTSEGOV.xlsx to CSV and saved as final_etf_csv/FTSEGOV.csv\n"
     ]
    }
   ],
   "source": [
    "for filename in os.listdir(excel_files_path):\n",
    "    if filename.endswith(\".xlsx\"):\n",
    "        file_path = os.path.join(excel_files_path, filename)\n",
    "\n",
    "        if filename in format_1:\n",
    "            df = pd.read_excel(file_path, skiprows=10)  \n",
    "            df = df[['Date', 'Trade Price']]\n",
    "            df.dropna(subset=['Date', 'Trade Price'], inplace=True)\n",
    "            df.rename(columns={'Trade Price': 'Price'}, inplace=True)\n",
    "\n",
    "        else:\n",
    "            df = pd.read_excel(file_path, skiprows=17)\n",
    "            df = df[['Exchange Date', 'Close']]\n",
    "            df.dropna(subset=['Exchange Date', 'Close'], inplace=True)\n",
    "            df.rename(columns={'Exchange Date' : 'Date', 'Close': 'Price'}, inplace=True)\n",
    "        \n",
    "        csv_file_path = os.path.join(etf_files_path, f\"{os.path.splitext(filename)[0]}.csv\")\n",
    "        \n",
    "        # Save to CSV\n",
    "        df.to_csv(csv_file_path, index=False)\n",
    "        \n",
    "        print(f\"Converted {filename} to CSV and saved as {csv_file_path}\")"
   ]
  }
 ],
 "metadata": {
  "kernelspec": {
   "display_name": "packages",
   "language": "python",
   "name": "python3"
  },
  "language_info": {
   "codemirror_mode": {
    "name": "ipython",
    "version": 3
   },
   "file_extension": ".py",
   "mimetype": "text/x-python",
   "name": "python",
   "nbconvert_exporter": "python",
   "pygments_lexer": "ipython3",
   "version": "3.10.2"
  }
 },
 "nbformat": 4,
 "nbformat_minor": 2
}
